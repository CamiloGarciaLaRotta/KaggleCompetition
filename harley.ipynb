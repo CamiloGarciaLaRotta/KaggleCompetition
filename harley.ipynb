{
 "cells": [
  {
   "cell_type": "code",
   "execution_count": 1,
   "metadata": {
    "collapsed": true
   },
   "outputs": [],
   "source": [
    "import matplotlib.pyplot as plt\n",
    "import numpy as np\n",
    "import matplotlib\n",
    "import random\n",
    "from operator import itemgetter\n",
    "\n",
    "from sklearn.model_selection import train_test_split\n",
    "from sklearn.model_selection import cross_val_score\n",
    "from sklearn.model_selection import KFold\n",
    "\n",
    "from sklearn.model_selection import GridSearchCV\n",
    "\n",
    "from sklearn.linear_model import LogisticRegression\n",
    "from sklearn.dummy import DummyClassifier\n",
    "from sklearn.svm import LinearSVC\n",
    "\n",
    "import cv2\n",
    "\n",
    "%matplotlib inline\n",
    "matplotlib.rcParams['figure.figsize'] = (10.0, 8.0)\n",
    "\n",
    "from itertools import count\n",
    "iid = count()\n",
    "\n",
    "SEED = 42    # random state seed for consistent results"
   ]
  },
  {
   "cell_type": "markdown",
   "metadata": {},
   "source": [
    "### 0. Preprocessing"
   ]
  },
  {
   "cell_type": "code",
   "execution_count": 2,
   "metadata": {},
   "outputs": [
    {
     "name": "stdout",
     "output_type": "stream",
     "text": [
      "CPU times: user 2min 15s, sys: 1.86 s, total: 2min 17s\n",
      "Wall time: 2min 17s\n"
     ]
    }
   ],
   "source": [
    "%%time\n",
    "# mini_X = np.loadtxt(\"./Datasets/mini_train_x.csv\", delimiter=\",\")\n",
    "# mini_y = np.loadtxt(\"./Datasets/mini_train_y.csv\", delimiter=\",\")\n",
    "\n",
    "mini_X = np.loadtxt(\"./Datasets/train_x.csv\", delimiter=\",\")\n",
    "mini_y = np.loadtxt(\"./Datasets/train_y.csv\", delimiter=\",\")\n",
    "\n",
    "# mini_X = np.loadtxt(\"./Datasets/train_x.csv\", delimiter=\",\")\n",
    "# mini_y = np.loadtxt(\"./Datasets/train_y.csv\", delimiter=\",\")"
   ]
  },
  {
   "cell_type": "markdown",
   "metadata": {},
   "source": [
    "#### Reshape to easily visualize while cleaning data"
   ]
  },
  {
   "cell_type": "code",
   "execution_count": 3,
   "metadata": {},
   "outputs": [
    {
     "name": "stdout",
     "output_type": "stream",
     "text": [
      "CPU times: user 4.25 s, sys: 1.22 s, total: 5.48 s\n",
      "Wall time: 5.49 s\n"
     ]
    }
   ],
   "source": [
    "%%time\n",
    "x = mini_X.reshape(-1, 64, 64)\n",
    "\n",
    "imgs = []\n",
    "for idx in range(len(x)):\n",
    "    img_id = next(iid)\n",
    "    cv2.imwrite('Output/{}.jpg'.format(img_id), 255-x[idx])\n",
    "    imgs.append(cv2.imread('Output/{}.jpg'.format(img_id), 0))"
   ]
  },
  {
   "cell_type": "markdown",
   "metadata": {},
   "source": [
    "We will first transform to binary image (black, white):"
   ]
  },
  {
   "cell_type": "code",
   "execution_count": 4,
   "metadata": {},
   "outputs": [
    {
     "name": "stdout",
     "output_type": "stream",
     "text": [
      "CPU times: user 95.8 ms, sys: 1 ms, total: 96.8 ms\n",
      "Wall time: 96.4 ms\n"
     ]
    }
   ],
   "source": [
    "%%time\n",
    "bin_imgs = []\n",
    "for img in imgs:\n",
    "    _, bin_img = cv2.threshold(img, 50, 255, cv2.THRESH_BINARY)\n",
    "    bin_imgs.append(bin_img)"
   ]
  },
  {
   "cell_type": "markdown",
   "metadata": {},
   "source": [
    "Then we will remove the noice by dilatating and eroding the image:"
   ]
  },
  {
   "cell_type": "code",
   "execution_count": 5,
   "metadata": {},
   "outputs": [
    {
     "name": "stdout",
     "output_type": "stream",
     "text": [
      "CPU times: user 702 ms, sys: 0 ns, total: 702 ms\n",
      "Wall time: 702 ms\n"
     ]
    }
   ],
   "source": [
    "%%time\n",
    "denoised_imgs = []\n",
    "for bin_img in bin_imgs:\n",
    "    dilatated = cv2.dilate(bin_img, np.ones((3,3)))\n",
    "    denoised_imgs.append(cv2.erode(dilatated, np.ones((2,2))))"
   ]
  },
  {
   "cell_type": "markdown",
   "metadata": {},
   "source": [
    "Finally, find largest contour:"
   ]
  },
  {
   "cell_type": "code",
   "execution_count": 6,
   "metadata": {},
   "outputs": [
    {
     "name": "stdout",
     "output_type": "stream",
     "text": [
      "Discarted 620 samples because preprocessing failed to clean well the image.\n",
      "CPU times: user 1.26 s, sys: 3 ms, total: 1.26 s\n",
      "Wall time: 1.26 s\n"
     ]
    }
   ],
   "source": [
    "%%time\n",
    "MAX_AREA = 60*60   # avoid getting the 64X64 image as a contour\n",
    "def get_coords_largest_digit(contours):\n",
    "    x=y=w=h=0\n",
    "    max_contour = 0\n",
    "    for idx, cont in enumerate(contours):\n",
    "        a = cv2.contourArea(cont,False)\n",
    "        if a > max_contour and a < MAX_AREA:\n",
    "            x,y,w,h = cv2.boundingRect(cont)\n",
    "            max_contour = a\n",
    "\n",
    "    return x,y,w,h\n",
    " \n",
    "discarted = 0\n",
    "MAX_ALLOWED_LENGTH = 36\n",
    "largest_digits = []\n",
    "idx_to_del = []\n",
    "for idx, img in enumerate(denoised_imgs.copy()):\n",
    "    _, contours, _ = cv2.findContours(img, cv2.RETR_CCOMP, cv2.CHAIN_APPROX_SIMPLE)\n",
    "    \n",
    "    x,y,w,h = get_coords_largest_digit(contours)\n",
    "    cropped_img = img[y+1:y+h, x+1:x+w]\n",
    "    \n",
    "    vertical = int((MAX_ALLOWED_LENGTH-h) / 2)\n",
    "    horizontal = int((MAX_ALLOWED_LENGTH-w) / 2)\n",
    "\n",
    "    if h > MAX_ALLOWED_LENGTH or w > MAX_ALLOWED_LENGTH:\n",
    "        discarted +=1\n",
    "        idx_to_del.append(idx)\n",
    "        continue\n",
    "\n",
    "    resized_img = cv2.copyMakeBorder(cropped_img,vertical,vertical,horizontal,horizontal,cv2.BORDER_CONSTANT, value=[255,255,255])\n",
    "    largest_digits.append(resized_img[2:34,2:34])\n",
    "    \n",
    "mini_y = np.delete(mini_y, idx_to_del, axis=0)\n",
    "\n",
    "print('Discarted {} samples because preprocessing failed to clean well the image.'.format(discarted))"
   ]
  },
  {
   "cell_type": "markdown",
   "metadata": {},
   "source": [
    "Lets visualize the transformations:"
   ]
  },
  {
   "cell_type": "code",
   "execution_count": 7,
   "metadata": {},
   "outputs": [
    {
     "name": "stdout",
     "output_type": "stream",
     "text": [
      "4 5\n"
     ]
    },
    {
     "data": {
      "image/png": "[encoded data removed]",
      "text/plain": [
       "<matplotlib.figure.Figure at 0x7f0ea2f71d68>"
      ]
     },
     "metadata": {},
     "output_type": "display_data"
    },
    {
     "data": {
      "image/png": "[encoded data removed]",
      "text/plain": [
       "<matplotlib.figure.Figure at 0x7f0fcbacaa58>"
      ]
     },
     "metadata": {},
     "output_type": "display_data"
    },
    {
     "data": {
      "image/png": "[encoded data removed]",
      "text/plain": [
       "<matplotlib.figure.Figure at 0x7f0fcb9e64a8>"
      ]
     },
     "metadata": {},
     "output_type": "display_data"
    },
    {
     "data": {
      "image/png": "[encoded data removed]",
      "text/plain": [
       "<matplotlib.figure.Figure at 0x7f0fcba03b00>"
      ]
     },
     "metadata": {},
     "output_type": "display_data"
    },
    {
     "data": {
      "image/png": "[encoded data removed]",
      "text/plain": [
       "<matplotlib.figure.Figure at 0x7f0fcb8a3d68>"
      ]
     },
     "metadata": {},
     "output_type": "display_data"
    }
   ],
   "source": [
    "def plot_images(images, titles):\n",
    "    cols = len(images)\n",
    "    rows = len(images[0])\n",
    "    \n",
    "    print(cols, rows)\n",
    "    for r in range(rows):\n",
    "        for c in range(cols):\n",
    "            plt.subplot(1,cols,c+1)\n",
    "            plt.imshow(images[c][r],'gray')\n",
    "            plt.title(titles[c])\n",
    "            plt.xticks([]),plt.yticks([])\n",
    "        \n",
    "        plt.show()\n",
    "        \n",
    "titles = ['Original', 'Binary', 'Denoised', 'Largest Digit']\n",
    "images = [imgs[:5], bin_imgs[:5], denoised_imgs[:5], largest_digits[:5]]\n",
    "plot_images(images, titles)"
   ]
  },
  {
   "cell_type": "markdown",
   "metadata": {},
   "source": [
    "#### Split the clean data"
   ]
  },
  {
   "cell_type": "code",
   "execution_count": 8,
   "metadata": {
    "collapsed": true
   },
   "outputs": [],
   "source": [
    "clean_X = []\n",
    "for i in range(len(largest_digits)):\n",
    "    clean_X.append(largest_digits[i].flatten())\n",
    "\n",
    "clean_X = np.divide(255-np.array(clean_X),255)\n",
    "\n",
    "mini_X_train, mini_X_test, mini_y_train, mini_y_test = train_test_split(clean_X, mini_y, \n",
    "                                                                        test_size=0.3,\n",
    "                                                                       random_state=SEED)"
   ]
  },
  {
   "cell_type": "markdown",
   "metadata": {},
   "source": [
    "### 1. Linear Learners"
   ]
  },
  {
   "cell_type": "code",
   "execution_count": 9,
   "metadata": {},
   "outputs": [
    {
     "name": "stdout",
     "output_type": "stream",
     "text": [
      "CPU times: user 17 µs, sys: 0 ns, total: 17 µs\n",
      "Wall time: 18.8 µs\n"
     ]
    }
   ],
   "source": [
    "%%time\n",
    "# hyperparameter permutations\n",
    "FOLDS = 3 \n",
    "DUAL = [False] \n",
    "LOSSES = ['squared_hinge','hinge']\n",
    "PENALTIES = ['l1','l2']\n",
    "SOLVERS = ['lbfgs']\n",
    "\n",
    "KFOLD = KFold(n_splits=FOLDS, random_state=SEED)"
   ]
  },
  {
   "cell_type": "markdown",
   "metadata": {},
   "source": [
    "#### Base and dummy clf performances for reference"
   ]
  },
  {
   "cell_type": "code",
   "execution_count": 10,
   "metadata": {},
   "outputs": [
    {
     "name": "stdout",
     "output_type": "stream",
     "text": [
      "Random clf performance: 0.0973\n",
      "LinearSVM base performance: 0.3583\n",
      "LogReg base performance: 0.4460\n",
      "Wall time: 15.8 s\n"
     ]
    }
   ],
   "source": [
    "%%time\n",
    "# dummy clf performance\n",
    "random_clf = DummyClassifier(random_state=42)\n",
    "result = cross_val_score(random_clf, mini_X_train, mini_y_train, cv=KFOLD, scoring='accuracy')\n",
    "print('Random clf performance: {:.4f}'.format(result.mean()))\n",
    "\n",
    "# Base performance (default HP)\n",
    "result = cross_val_score(LinearSVC(), mini_X_train, mini_y_train, cv=KFOLD, scoring='accuracy')\n",
    "print('LinearSVM base performance: {:.4f}'.format(result.mean()))\n",
    "\n",
    "result = cross_val_score(LogisticRegression(), mini_X_train, mini_y_train, cv=KFOLD, scoring='accuracy')\n",
    "print('LogReg base performance: {:.4f}'.format(result.mean()))"
   ]
  },
  {
   "cell_type": "markdown",
   "metadata": {},
   "source": [
    "#### Perform Model Selection for LinearSM"
   ]
  },
  {
   "cell_type": "code",
   "execution_count": 11,
   "metadata": {},
   "outputs": [
    {
     "name": "stdout",
     "output_type": "stream",
     "text": [
      "HyperParameters chosen by CV: {'C': 0.0009444444444444445}\n",
      "Testing Score: 0.5733\n",
      "Wall time: 4.66 s\n"
     ]
    }
   ],
   "source": [
    "%%time\n",
    "parameters = {'C':np.linspace(0.0005,0.001, 10)}\n",
    "svc = LinearSVC()\n",
    "clf = GridSearchCV(svc, parameters, scoring='accuracy')\n",
    "clf.fit(mini_X_train,mini_y_train)\n",
    "print('HyperParameters chosen by CV: {}'.format(clf.best_params_ ))\n",
    "print('Testing Score: {:.4f}'.format(clf.score(mini_X_test, mini_y_test)))"
   ]
  },
  {
   "cell_type": "markdown",
   "metadata": {},
   "source": [
    "#### Perform Model Selection for LogisticRegression"
   ]
  },
  {
   "cell_type": "code",
   "execution_count": 12,
   "metadata": {},
   "outputs": [
    {
     "name": "stdout",
     "output_type": "stream",
     "text": [
      "HyperParameters chosen by CV: {'C': 0.009999999999999998, 'n_jobs': 8, 'solver': 'lbfgs'}\n",
      "Testing Score: 0.6023\n",
      "Wall time: 3min 39s\n"
     ]
    }
   ],
   "source": [
    "%%time\n",
    "\n",
    "parameters = {'C':np.linspace(0.005,0.02, 10),'solver':SOLVERS,'n_jobs':[8]}\n",
    "logit = LogisticRegression()\n",
    "clf = GridSearchCV(logit, parameters, scoring='accuracy')\n",
    "clf.fit(mini_X_train,mini_y_train)\n",
    "print('HyperParameters chosen by CV: {}'.format(clf.best_params_ ))\n",
    "print('Testing Score: {:.4f}'.format(clf.score(mini_X_test, mini_y_test)))"
   ]
  },
  {
   "cell_type": "markdown",
   "metadata": {},
   "source": [
    "## Neural Network"
   ]
  },
  {
   "cell_type": "code",
   "execution_count": 10,
   "metadata": {
    "collapsed": true
   },
   "outputs": [],
   "source": [
    "from neuralnet import *\n",
    "one_hot_encode = lambda x: np.eye(10)[x]\n",
    "one_hot_decode = lambda x: np.argmax(x)\n",
    "input_length = mini_X_train.shape[1]\n",
    "y_train = np.array(list(map(lambda x: one_hot_encode(int(x)), mini_y_train)))\n",
    "y_test = np.array(list(map(lambda x: one_hot_encode(int(x)), mini_y_test)))\n",
    "epochs = 300"
   ]
  },
  {
   "cell_type": "code",
   "execution_count": 16,
   "metadata": {},
   "outputs": [
    {
     "name": "stdout",
     "output_type": "stream",
     "text": [
      "Finished trial 1/18 with validation accuracy 59.87%\n"
     ]
    },
    {
     "ename": "KeyboardInterrupt",
     "evalue": "",
     "output_type": "error",
     "traceback": [
      "\u001b[0;31m---------------------------------------------------------------------------\u001b[0m",
      "\u001b[0;31mKeyboardInterrupt\u001b[0m                         Traceback (most recent call last)",
      "\u001b[0;32m<ipython-input-16-762fdd77250b>\u001b[0m in \u001b[0;36m<module>\u001b[0;34m()\u001b[0m\n\u001b[0;32m----> 1\u001b[0;31m \u001b[0mget_ipython\u001b[0m\u001b[0;34m(\u001b[0m\u001b[0;34m)\u001b[0m\u001b[0;34m.\u001b[0m\u001b[0mrun_cell_magic\u001b[0m\u001b[0;34m(\u001b[0m\u001b[0;34m'time'\u001b[0m\u001b[0;34m,\u001b[0m \u001b[0;34m''\u001b[0m\u001b[0;34m,\u001b[0m \u001b[0;34m'net = NeuralNetBuilder() \\\\\\n        .input_layer(input_length) \\\\\\n        .add_layer(\"sigmoid\", 60) \\\\\\n        .output_layer(10) \\\\\\n        .build()\\n        \\nx_valid = mini_X_test[:1500]\\ny_valid = mini_y_test[:1500]\\nvalidation = list(zip(x_valid, y_valid))\\nx_test = mini_X_test[1500:]\\ny_test = mini_y_test[1500:]\\n\\nlayer1 = [(\"tanh\", 80), (\"sigmoid\", 80)]\\nlayer2 = [None, (\"sigmoid\", 30), (\"tanh\", 30)]\\ngammas = np.linspace(0.005,0.1,3)\\n\\ntotal_tries = len(layer1) * len(layer2) * len(gammas)\\n\\nbest_result = (0, None, None, 0)\\ni = 0\\nfor l1 in layer1:\\n    for l2 in layer2:\\n        for gamma in gammas:\\n            i += 1\\n            builder = NeuralNetBuilder().input_layer(input_length).add_layer(l1[0], l1[1])\\n            if not (l2 is None):\\n                builder.add_layer(l2[0], l2[1])\\n            builder.output_layer(10)\\n            clf = builder.build()\\n            (errors, valids) = clf.fit(np.array(mini_X_train), y_train, epochs=20, gamma=gamma, debug=False, validation=validation)\\n            if valids[-1] > best_result[0]:\\n                best_result = (valids[-1], l1, l2, gamma)\\n            print(\"Finished trial \" + str(i) + \"/\" + str(total_tries) + \" with validation accuracy {:.2f}%\".format(valids[-1]))\\n        \\n#(errors, valids) = net.fit(np.array(mini_X_train), y_train, epochs=epochs, gamma=0.05, debug=True, validation=validation)'\u001b[0m\u001b[0;34m)\u001b[0m\u001b[0;34m\u001b[0m\u001b[0m\n\u001b[0m",
      "\u001b[0;32m/usr/lib64/python3.5/site-packages/IPython/core/interactiveshell.py\u001b[0m in \u001b[0;36mrun_cell_magic\u001b[0;34m(self, magic_name, line, cell)\u001b[0m\n\u001b[1;32m   2115\u001b[0m             \u001b[0mmagic_arg_s\u001b[0m \u001b[0;34m=\u001b[0m \u001b[0mself\u001b[0m\u001b[0;34m.\u001b[0m\u001b[0mvar_expand\u001b[0m\u001b[0;34m(\u001b[0m\u001b[0mline\u001b[0m\u001b[0;34m,\u001b[0m \u001b[0mstack_depth\u001b[0m\u001b[0;34m)\u001b[0m\u001b[0;34m\u001b[0m\u001b[0m\n\u001b[1;32m   2116\u001b[0m             \u001b[0;32mwith\u001b[0m \u001b[0mself\u001b[0m\u001b[0;34m.\u001b[0m\u001b[0mbuiltin_trap\u001b[0m\u001b[0;34m:\u001b[0m\u001b[0;34m\u001b[0m\u001b[0m\n\u001b[0;32m-> 2117\u001b[0;31m                 \u001b[0mresult\u001b[0m \u001b[0;34m=\u001b[0m \u001b[0mfn\u001b[0m\u001b[0;34m(\u001b[0m\u001b[0mmagic_arg_s\u001b[0m\u001b[0;34m,\u001b[0m \u001b[0mcell\u001b[0m\u001b[0;34m)\u001b[0m\u001b[0;34m\u001b[0m\u001b[0m\n\u001b[0m\u001b[1;32m   2118\u001b[0m             \u001b[0;32mreturn\u001b[0m \u001b[0mresult\u001b[0m\u001b[0;34m\u001b[0m\u001b[0m\n\u001b[1;32m   2119\u001b[0m \u001b[0;34m\u001b[0m\u001b[0m\n",
      "\u001b[0;32m<decorator-gen-60>\u001b[0m in \u001b[0;36mtime\u001b[0;34m(self, line, cell, local_ns)\u001b[0m\n",
      "\u001b[0;32m/usr/lib64/python3.5/site-packages/IPython/core/magic.py\u001b[0m in \u001b[0;36m<lambda>\u001b[0;34m(f, *a, **k)\u001b[0m\n\u001b[1;32m    186\u001b[0m     \u001b[0;31m# but it's overkill for just that one bit of state.\u001b[0m\u001b[0;34m\u001b[0m\u001b[0;34m\u001b[0m\u001b[0m\n\u001b[1;32m    187\u001b[0m     \u001b[0;32mdef\u001b[0m \u001b[0mmagic_deco\u001b[0m\u001b[0;34m(\u001b[0m\u001b[0marg\u001b[0m\u001b[0;34m)\u001b[0m\u001b[0;34m:\u001b[0m\u001b[0;34m\u001b[0m\u001b[0m\n\u001b[0;32m--> 188\u001b[0;31m         \u001b[0mcall\u001b[0m \u001b[0;34m=\u001b[0m \u001b[0;32mlambda\u001b[0m \u001b[0mf\u001b[0m\u001b[0;34m,\u001b[0m \u001b[0;34m*\u001b[0m\u001b[0ma\u001b[0m\u001b[0;34m,\u001b[0m \u001b[0;34m**\u001b[0m\u001b[0mk\u001b[0m\u001b[0;34m:\u001b[0m \u001b[0mf\u001b[0m\u001b[0;34m(\u001b[0m\u001b[0;34m*\u001b[0m\u001b[0ma\u001b[0m\u001b[0;34m,\u001b[0m \u001b[0;34m**\u001b[0m\u001b[0mk\u001b[0m\u001b[0;34m)\u001b[0m\u001b[0;34m\u001b[0m\u001b[0m\n\u001b[0m\u001b[1;32m    189\u001b[0m \u001b[0;34m\u001b[0m\u001b[0m\n\u001b[1;32m    190\u001b[0m         \u001b[0;32mif\u001b[0m \u001b[0mcallable\u001b[0m\u001b[0;34m(\u001b[0m\u001b[0marg\u001b[0m\u001b[0;34m)\u001b[0m\u001b[0;34m:\u001b[0m\u001b[0;34m\u001b[0m\u001b[0m\n",
      "\u001b[0;32m/usr/lib64/python3.5/site-packages/IPython/core/magics/execution.py\u001b[0m in \u001b[0;36mtime\u001b[0;34m(self, line, cell, local_ns)\u001b[0m\n\u001b[1;32m   1183\u001b[0m         \u001b[0;32melse\u001b[0m\u001b[0;34m:\u001b[0m\u001b[0;34m\u001b[0m\u001b[0m\n\u001b[1;32m   1184\u001b[0m             \u001b[0mst\u001b[0m \u001b[0;34m=\u001b[0m \u001b[0mclock2\u001b[0m\u001b[0;34m(\u001b[0m\u001b[0;34m)\u001b[0m\u001b[0;34m\u001b[0m\u001b[0m\n\u001b[0;32m-> 1185\u001b[0;31m             \u001b[0mexec\u001b[0m\u001b[0;34m(\u001b[0m\u001b[0mcode\u001b[0m\u001b[0;34m,\u001b[0m \u001b[0mglob\u001b[0m\u001b[0;34m,\u001b[0m \u001b[0mlocal_ns\u001b[0m\u001b[0;34m)\u001b[0m\u001b[0;34m\u001b[0m\u001b[0m\n\u001b[0m\u001b[1;32m   1186\u001b[0m             \u001b[0mend\u001b[0m \u001b[0;34m=\u001b[0m \u001b[0mclock2\u001b[0m\u001b[0;34m(\u001b[0m\u001b[0;34m)\u001b[0m\u001b[0;34m\u001b[0m\u001b[0m\n\u001b[1;32m   1187\u001b[0m             \u001b[0mout\u001b[0m \u001b[0;34m=\u001b[0m \u001b[0;32mNone\u001b[0m\u001b[0;34m\u001b[0m\u001b[0m\n",
      "\u001b[0;32m<timed exec>\u001b[0m in \u001b[0;36m<module>\u001b[0;34m()\u001b[0m\n",
      "\u001b[0;32m/home/harwiltz/KaggleCompetition/neuralnet.py\u001b[0m in \u001b[0;36mfit\u001b[0;34m(self, x, y, gamma, epochs, debug, validation)\u001b[0m\n\u001b[1;32m    169\u001b[0m             \u001b[0merror\u001b[0m \u001b[0;34m=\u001b[0m \u001b[0;36m0\u001b[0m\u001b[0;34m\u001b[0m\u001b[0m\n\u001b[1;32m    170\u001b[0m             \u001b[0;32mfor\u001b[0m \u001b[0;34m(\u001b[0m\u001b[0mdata\u001b[0m\u001b[0;34m,\u001b[0m \u001b[0mlabel\u001b[0m\u001b[0;34m)\u001b[0m \u001b[0;32min\u001b[0m \u001b[0mdataset\u001b[0m\u001b[0;34m:\u001b[0m\u001b[0;34m\u001b[0m\u001b[0m\n\u001b[0;32m--> 171\u001b[0;31m                 \u001b[0mout\u001b[0m \u001b[0;34m=\u001b[0m \u001b[0mself\u001b[0m\u001b[0;34m.\u001b[0m\u001b[0mforward\u001b[0m\u001b[0;34m(\u001b[0m\u001b[0mdata\u001b[0m\u001b[0;34m)\u001b[0m\u001b[0;34m\u001b[0m\u001b[0m\n\u001b[0m\u001b[1;32m    172\u001b[0m                 \u001b[0merror\u001b[0m \u001b[0;34m-=\u001b[0m \u001b[0mnp\u001b[0m\u001b[0;34m.\u001b[0m\u001b[0msum\u001b[0m\u001b[0;34m(\u001b[0m\u001b[0mlabel\u001b[0m\u001b[0;34m.\u001b[0m\u001b[0mT\u001b[0m\u001b[0;34m.\u001b[0m\u001b[0mdot\u001b[0m\u001b[0;34m(\u001b[0m\u001b[0mnp\u001b[0m\u001b[0;34m.\u001b[0m\u001b[0mlog\u001b[0m\u001b[0;34m(\u001b[0m\u001b[0mout\u001b[0m\u001b[0;34m)\u001b[0m\u001b[0;34m)\u001b[0m\u001b[0;34m)\u001b[0m\u001b[0;34m\u001b[0m\u001b[0m\n\u001b[1;32m    173\u001b[0m                 \u001b[0mself\u001b[0m\u001b[0;34m.\u001b[0m\u001b[0mbackpropagate\u001b[0m\u001b[0;34m(\u001b[0m\u001b[0mgamma\u001b[0m\u001b[0;34m,\u001b[0m \u001b[0mlabel\u001b[0m\u001b[0;34m)\u001b[0m\u001b[0;34m\u001b[0m\u001b[0m\n",
      "\u001b[0;32m/home/harwiltz/KaggleCompetition/neuralnet.py\u001b[0m in \u001b[0;36mforward\u001b[0;34m(self, x)\u001b[0m\n\u001b[1;32m    193\u001b[0m         \u001b[0mb\u001b[0m \u001b[0;34m=\u001b[0m \u001b[0mself\u001b[0m\u001b[0;34m.\u001b[0m\u001b[0mlayers\u001b[0m\u001b[0;34m[\u001b[0m\u001b[0;36m0\u001b[0m\u001b[0;34m]\u001b[0m\u001b[0;34m.\u001b[0m\u001b[0mbias\u001b[0m\u001b[0;34m\u001b[0m\u001b[0m\n\u001b[1;32m    194\u001b[0m         \u001b[0;32mfor\u001b[0m \u001b[0mlayer\u001b[0m \u001b[0;32min\u001b[0m \u001b[0mself\u001b[0m\u001b[0;34m.\u001b[0m\u001b[0mlayers\u001b[0m\u001b[0;34m[\u001b[0m\u001b[0;36m1\u001b[0m\u001b[0;34m:\u001b[0m\u001b[0;34m]\u001b[0m\u001b[0;34m:\u001b[0m\u001b[0;34m\u001b[0m\u001b[0m\n\u001b[0;32m--> 195\u001b[0;31m             \u001b[0mx\u001b[0m \u001b[0;34m=\u001b[0m \u001b[0mlayer\u001b[0m\u001b[0;34m.\u001b[0m\u001b[0mforward\u001b[0m\u001b[0;34m(\u001b[0m\u001b[0mx\u001b[0m\u001b[0;34m,\u001b[0m\u001b[0mb\u001b[0m\u001b[0;34m)\u001b[0m\u001b[0;34m\u001b[0m\u001b[0m\n\u001b[0m\u001b[1;32m    196\u001b[0m             \u001b[0mb\u001b[0m \u001b[0;34m=\u001b[0m \u001b[0mlayer\u001b[0m\u001b[0;34m.\u001b[0m\u001b[0mbias\u001b[0m\u001b[0;34m\u001b[0m\u001b[0m\n\u001b[1;32m    197\u001b[0m         \u001b[0;32mreturn\u001b[0m \u001b[0mx\u001b[0m\u001b[0;34m\u001b[0m\u001b[0m\n",
      "\u001b[0;32m/home/harwiltz/KaggleCompetition/neuralnet.py\u001b[0m in \u001b[0;36mforward\u001b[0;34m(self, x, b)\u001b[0m\n\u001b[1;32m    101\u001b[0m     \u001b[0;32mdef\u001b[0m \u001b[0mforward\u001b[0m\u001b[0;34m(\u001b[0m\u001b[0mself\u001b[0m\u001b[0;34m,\u001b[0m \u001b[0mx\u001b[0m\u001b[0;34m,\u001b[0m \u001b[0mb\u001b[0m\u001b[0;34m)\u001b[0m\u001b[0;34m:\u001b[0m\u001b[0;34m\u001b[0m\u001b[0m\n\u001b[1;32m    102\u001b[0m         \u001b[0mself\u001b[0m\u001b[0;34m.\u001b[0m\u001b[0mprevInput\u001b[0m \u001b[0;34m=\u001b[0m \u001b[0mx\u001b[0m\u001b[0;34m\u001b[0m\u001b[0m\n\u001b[0;32m--> 103\u001b[0;31m         \u001b[0mself\u001b[0m\u001b[0;34m.\u001b[0m\u001b[0mvals\u001b[0m \u001b[0;34m=\u001b[0m \u001b[0mnp\u001b[0m\u001b[0;34m.\u001b[0m\u001b[0mtanh\u001b[0m\u001b[0;34m(\u001b[0m\u001b[0mself\u001b[0m\u001b[0;34m.\u001b[0m\u001b[0mweights\u001b[0m\u001b[0;34m.\u001b[0m\u001b[0mdot\u001b[0m\u001b[0;34m(\u001b[0m\u001b[0mx\u001b[0m\u001b[0;34m)\u001b[0m \u001b[0;34m+\u001b[0m \u001b[0mnp\u001b[0m\u001b[0;34m.\u001b[0m\u001b[0mmultiply\u001b[0m\u001b[0;34m(\u001b[0m\u001b[0mb\u001b[0m\u001b[0;34m,\u001b[0m \u001b[0mself\u001b[0m\u001b[0;34m.\u001b[0m\u001b[0mb\u001b[0m\u001b[0;34m)\u001b[0m\u001b[0;34m)\u001b[0m\u001b[0;34m\u001b[0m\u001b[0m\n\u001b[0m\u001b[1;32m    104\u001b[0m         \u001b[0;32mif\u001b[0m \u001b[0mb\u001b[0m \u001b[0;34m==\u001b[0m \u001b[0;36m0\u001b[0m\u001b[0;34m:\u001b[0m\u001b[0;34m\u001b[0m\u001b[0m\n\u001b[1;32m    105\u001b[0m             \u001b[0mself\u001b[0m\u001b[0;34m.\u001b[0m\u001b[0mhas_bias\u001b[0m \u001b[0;34m=\u001b[0m \u001b[0;32mFalse\u001b[0m\u001b[0;34m\u001b[0m\u001b[0m\n",
      "\u001b[0;31mKeyboardInterrupt\u001b[0m: "
     ]
    }
   ],
   "source": [
    "%%time\n",
    "net = NeuralNetBuilder() \\\n",
    "        .input_layer(input_length) \\\n",
    "        .add_layer(\"sigmoid\", 60) \\\n",
    "        .output_layer(10) \\\n",
    "        .build()\n",
    "        \n",
    "x_valid = mini_X_test[:1500]\n",
    "y_valid = mini_y_test[:1500]\n",
    "validation = list(zip(x_valid, y_valid))\n",
    "x_test = mini_X_test[1500:]\n",
    "y_test = mini_y_test[1500:]\n",
    "\n",
    "layer1 = [(\"tanh\", 80), (\"sigmoid\", 80)]\n",
    "layer2 = [None, (\"sigmoid\", 30), (\"tanh\", 30)]\n",
    "gammas = np.linspace(0.005,0.1,3)\n",
    "\n",
    "total_tries = len(layer1) * len(layer2) * len(gammas)\n",
    "\n",
    "best_result = (0, None, None, 0)\n",
    "i = 0\n",
    "for l1 in layer1:\n",
    "    for l2 in layer2:\n",
    "        for gamma in gammas:\n",
    "            i += 1\n",
    "            builder = NeuralNetBuilder().input_layer(input_length).add_layer(l1[0], l1[1])\n",
    "            if not (l2 is None):\n",
    "                builder.add_layer(l2[0], l2[1])\n",
    "            builder.output_layer(10)\n",
    "            clf = builder.build()\n",
    "            (errors, valids) = clf.fit(np.array(mini_X_train), y_train, epochs=20, gamma=gamma, debug=False, validation=validation)\n",
    "            if valids[-1] > best_result[0]:\n",
    "                best_result = (valids[-1], l1, l2, gamma)\n",
    "            print(\"Finished trial \" + str(i) + \"/\" + str(total_tries) + \" with validation accuracy {:.2f}%\".format(valids[-1]))\n",
    "        \n",
    "#(errors, valids) = net.fit(np.array(mini_X_train), y_train, epochs=epochs, gamma=0.05, debug=True, validation=validation)"
   ]
  },
  {
   "cell_type": "code",
   "execution_count": 15,
   "metadata": {},
   "outputs": [
    {
     "name": "stdout",
     "output_type": "stream",
     "text": [
      "Best result occurs with a sigmoid layer of 80 units and gamma = 0.1\n"
     ]
    }
   ],
   "source": [
    "if best_result[2] is None:\n",
    "    print(\"Best result occurs with a \" + best_result[1][0] + \" layer of \" + str(best_result[1][1]) + \" units and gamma = \" + str(best_result[3]))\n",
    "else:\n",
    "    print(\"Best result occurs with a \" + best_result[1][0] + \" layer of \" + str(best_result[1][0]) + \" units, a \" + best_result[2][0] + \" layer of \" + str(best_result[2][1]) + \" units, and gamma = \" + str(best_result[3]))\n",
    "          "
   ]
  },
  {
   "cell_type": "code",
   "execution_count": null,
   "metadata": {
    "collapsed": true
   },
   "outputs": [],
   "source": [
    "builder = NeuralNetBuilder().input_layer(input_length).add_layer(best_result[1][0], best_result[1][1])\n",
    "if not (best_result[2] is None):\n",
    "    builder.add_layer(best_result[2][0],best_result[2][1])\n",
    "builder.ouput_layer(10)\n",
    "clf = builder.build()\n",
    "(errors, valids) = clf.fit(np.array(mini_X_train), y_train, epochs=300, gamma=gamma, debug=False, validation=validation)"
   ]
  }
 ],
 "metadata": {
  "kernelspec": {
   "display_name": "Python 3",
   "language": "python",
   "name": "python3"
  },
  "language_info": {
   "codemirror_mode": {
    "name": "ipython",
    "version": 3
   },
   "file_extension": ".py",
   "mimetype": "text/x-python",
   "name": "python",
   "nbconvert_exporter": "python",
   "pygments_lexer": "ipython3",
   "version": "3.6.4"
  }
 },
 "nbformat": 4,
 "nbformat_minor": 2
}
