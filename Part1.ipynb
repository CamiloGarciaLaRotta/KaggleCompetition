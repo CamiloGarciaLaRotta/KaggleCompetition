{
 "cells": [
  {
   "cell_type": "code",
   "execution_count": 7,
   "metadata": {},
   "outputs": [],
   "source": [
    "import matplotlib.pyplot as plt\n",
    "import numpy as np\n",
    "import matplotlib\n",
    "from operator import itemgetter\n",
    "\n",
    "from sklearn.model_selection import train_test_split\n",
    "from sklearn.model_selection import cross_val_score\n",
    "from sklearn.model_selection import KFold\n",
    "\n",
    "from sklearn.preprocessing import StandardScaler\n",
    "\n",
    "from sklearn.pipeline import Pipeline\n",
    "\n",
    "from sklearn.linear_model import LogisticRegression\n",
    "from sklearn.dummy import DummyClassifier\n",
    "from sklearn.svm import LinearSVC\n",
    "\n",
    "%matplotlib inline\n",
    "matplotlib.rcParams['figure.figsize'] = (10.0, 8.0)\n",
    "\n",
    "# hyperparameter permutations\n",
    "SEED = 42    # random state seed for consistent results\n",
    "FOLDS = 5    # number of folds for K-fold cross validation\n",
    "\n",
    "DUAL = [False, True] # WHEN n_samples > n_features DUAL=FALSE\n",
    "LOSSES = ['squared_hinge','hinge']\n",
    "PENALTIES = ['l1','l2']\n",
    "SOLVERS = ['lbfgs'] # 'newton-cg','sag','saga',\n",
    "error_coefs = np.logspace(-0.01, 2, 10)\n",
    "\n",
    "KFOLD = KFold(n_splits=FOLDS, random_state=SEED)"
   ]
  },
  {
   "cell_type": "markdown",
   "metadata": {},
   "source": [
    "#### Model selection using subset of original dataset"
   ]
  },
  {
   "cell_type": "code",
   "execution_count": 2,
   "metadata": {},
   "outputs": [],
   "source": [
    "mini_X = np.loadtxt(\"./Datasets/mini_train_x.csv\", delimiter=\",\")\n",
    "mini_y = np.loadtxt(\"./Datasets/mini_train_y.csv\", delimiter=\",\")\n",
    "\n",
    "mini_X_train, mini_X_test, mini_y_train, mini_y_test = train_test_split(mini_X, mini_y, \n",
    "                                                                        test_size=0.3,\n",
    "                                                                        random_state=SEED)"
   ]
  },
  {
   "cell_type": "markdown",
   "metadata": {},
   "source": [
    "#### Helper methods\n",
    "Methods to generate all possible permutations of HyperParameters \n",
    "for LinearSVMs and Logistic Regressor:"
   ]
  },
  {
   "cell_type": "code",
   "execution_count": 9,
   "metadata": {},
   "outputs": [],
   "source": [
    "def get_svm_hp_permutations():\n",
    "    clfs = []\n",
    "    for d in DUAL:\n",
    "        for l in LOSSES:\n",
    "            for p in PENALTIES:\n",
    "                # ignore unvalid combinations\n",
    "                if not d and p == 'l2': continue\n",
    "                if p == 'l1' and l == 'hinge': continue\n",
    "                if d and p == 'l1' and l == 'squared_hinge': continue\n",
    "\n",
    "                for c in error_coefs:\n",
    "                    clfs.append(LinearSVC(C=c,dual=d,loss=l,penalty=p))\n",
    "    \n",
    "    return clfs\n",
    "\n",
    "def get_logreg_hp_permutations():\n",
    "    clfs = []\n",
    "#     for d in DUAL:\n",
    "    for p in PENALTIES:\n",
    "        for s in SOLVERS:\n",
    "            # ignore unvalid combinations\n",
    "#             if not d and p == 'l2': continue\n",
    "            if s != 'saga' and p == 'l1': continue\n",
    "\n",
    "            for c in error_coefs:\n",
    "                clfs.append(LogisticRegression(C=c,penalty=p,solver=s,n_jobs=8))\n",
    "    \n",
    "    return clfs"
   ]
  },
  {
   "cell_type": "markdown",
   "metadata": {},
   "source": [
    "#### Base and dummy clf performances for reference"
   ]
  },
  {
   "cell_type": "code",
   "execution_count": 4,
   "metadata": {},
   "outputs": [
    {
     "name": "stdout",
     "output_type": "stream",
     "text": [
      "Random clf performance: 0.0857\n",
      "LinearSVM base performance: 0.1000\n",
      "LogReg base performance: 0.1000\n"
     ]
    }
   ],
   "source": [
    "# dummy clf performance\n",
    "random_clf = DummyClassifier(random_state=42)\n",
    "result = cross_val_score(random_clf, mini_X_train, mini_y_train, cv=KFOLD, scoring='f1_micro')\n",
    "print('Random clf performance: {:.4f}'.format(result.mean()))\n",
    "\n",
    "# Base performance (default HP)\n",
    "result = cross_val_score(LinearSVC(), mini_X_train, mini_y_train, cv=KFOLD, scoring='f1_micro')\n",
    "print('LinearSVM base performance: {:.4f}'.format(result.mean()))\n",
    "\n",
    "result = cross_val_score(LogisticRegression(), mini_X_train, mini_y_train, cv=KFOLD, scoring='f1_micro')\n",
    "print('LogReg base performance: {:.4f}'.format(result.mean()))"
   ]
  },
  {
   "cell_type": "markdown",
   "metadata": {},
   "source": [
    "#### Perform Model Selection for LinearSM"
   ]
  },
  {
   "cell_type": "code",
   "execution_count": 5,
   "metadata": {},
   "outputs": [
    {
     "name": "stdout",
     "output_type": "stream",
     "text": [
      "Best SVM: \n",
      "LinearSVC(C=0.97723722095581067, class_weight=None, dual=True,\n",
      "     fit_intercept=True, intercept_scaling=1, loss='squared_hinge',\n",
      "     max_iter=1000, multi_class='ovr', penalty='l2', random_state=None,\n",
      "     tol=0.0001, verbose=0)\n",
      "TRAIN SCORE: 0.1429\n"
     ]
    }
   ],
   "source": [
    "scores = []\n",
    "# create preprocessing pipeline\n",
    "for specific_svm_permutation in get_svm_hp_permutations():\n",
    "    estimators = []\n",
    "    estimators.append(('standardize', StandardScaler()))\n",
    "    estimators.append(('clf', specific_svm_permutation))\n",
    "    model = Pipeline(estimators)\n",
    "    result = cross_val_score(model, mini_X_train, mini_y_train, cv=KFOLD, scoring='f1_micro')\n",
    "\n",
    "    scores.append((specific_svm_permutation, result.mean()))\n",
    "    \n",
    "best_svm, max_train = max(scores,key=itemgetter(1)) \n",
    "print('Best SVM: \\n{}'.format(best_svm))\n",
    "print('TRAIN SCORE: {:.4f}'.format(max_train))"
   ]
  },
  {
   "cell_type": "markdown",
   "metadata": {},
   "source": [
    "#### Perform Model Selection for LogisticRegression"
   ]
  },
  {
   "cell_type": "code",
   "execution_count": 10,
   "metadata": {},
   "outputs": [
    {
     "name": "stdout",
     "output_type": "stream",
     "text": [
      "Best SVM: \n",
      "LogisticRegression(C=0.97723722095581067, class_weight=None, dual=False,\n",
      "          fit_intercept=True, intercept_scaling=1, max_iter=100,\n",
      "          multi_class='ovr', n_jobs=8, penalty='l2', random_state=None,\n",
      "          solver='lbfgs', tol=0.0001, verbose=0, warm_start=False)\n",
      "TRAIN SCORE: 0.1143\n"
     ]
    }
   ],
   "source": [
    "scores = []\n",
    "# create preprocessing pipeline\n",
    "for specific_logreg_permutation in get_logreg_hp_permutations():\n",
    "    estimators = []\n",
    "    estimators.append(('standardize', StandardScaler()))\n",
    "    estimators.append(('clf', specific_logreg_permutation))\n",
    "    model = Pipeline(estimators)\n",
    "    result = cross_val_score(model, mini_X_train, mini_y_train, cv=KFOLD, scoring='f1_micro')\n",
    "\n",
    "    scores.append((specific_logreg_permutation, result.mean()))\n",
    "    \n",
    "best_svm, max_train = max(scores,key=itemgetter(1)) \n",
    "\n",
    "print('Best SVM: \\n{}'.format(best_svm))\n",
    "print('TRAIN SCORE: {:.4f}'.format(max_train))"
   ]
  },
  {
   "cell_type": "code",
   "execution_count": null,
   "metadata": {},
   "outputs": [],
   "source": []
  },
  {
   "cell_type": "code",
   "execution_count": null,
   "metadata": {},
   "outputs": [],
   "source": []
  },
  {
   "cell_type": "code",
   "execution_count": null,
   "metadata": {},
   "outputs": [],
   "source": []
  },
  {
   "cell_type": "code",
   "execution_count": null,
   "metadata": {},
   "outputs": [],
   "source": [
    "\n"
   ]
  },
  {
   "cell_type": "code",
   "execution_count": null,
   "metadata": {},
   "outputs": [],
   "source": []
  }
 ],
 "metadata": {
  "kernelspec": {
   "display_name": "Python 3",
   "language": "python",
   "name": "python3"
  },
  "language_info": {
   "codemirror_mode": {
    "name": "ipython",
    "version": 3
   },
   "file_extension": ".py",
   "mimetype": "text/x-python",
   "name": "python",
   "nbconvert_exporter": "python",
   "pygments_lexer": "ipython3",
   "version": "3.6.3"
  }
 },
 "nbformat": 4,
 "nbformat_minor": 2
}
