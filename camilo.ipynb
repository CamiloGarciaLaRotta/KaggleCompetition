{
 "cells": [
  {
   "cell_type": "code",
   "execution_count": 1,
   "metadata": {},
   "outputs": [],
   "source": [
    "import matplotlib.pyplot as plt\n",
    "import numpy as np\n",
    "import matplotlib\n",
    "import random\n",
    "from operator import itemgetter\n",
    "\n",
    "from sklearn.model_selection import train_test_split\n",
    "from sklearn.model_selection import cross_val_score\n",
    "from sklearn.model_selection import KFold\n",
    "\n",
    "from sklearn.model_selection import GridSearchCV\n",
    "\n",
    "from sklearn.linear_model import LogisticRegression\n",
    "from sklearn.dummy import DummyClassifier\n",
    "from sklearn.svm import LinearSVC\n",
    "\n",
    "import cv2\n",
    "\n",
    "%matplotlib inline\n",
    "matplotlib.rcParams['figure.figsize'] = (10.0, 8.0)\n",
    "\n",
    "from itertools import count\n",
    "iid = count()\n",
    "\n",
    "SEED = 42    # random state seed for consistent results"
   ]
  },
  {
   "cell_type": "markdown",
   "metadata": {},
   "source": [
    "### 0. Preprocessing"
   ]
  },
  {
   "cell_type": "code",
   "execution_count": 2,
   "metadata": {},
   "outputs": [
    {
     "name": "stdout",
     "output_type": "stream",
     "text": [
      "Wall time: 12.1 s\n"
     ]
    }
   ],
   "source": [
    "%%time\n",
    "# mini_X = np.loadtxt(\"./Datasets/mini_train_x.csv\", delimiter=\",\")\n",
    "# mini_y = np.loadtxt(\"./Datasets/mini_train_y.csv\", delimiter=\",\")\n",
    "\n",
    "mini_X = np.loadtxt(\"./Datasets/train_med_x.csv\", delimiter=\",\")\n",
    "mini_y = np.loadtxt(\"./Datasets/train_med_y.csv\", delimiter=\",\")\n",
    "\n",
    "# mini_X = np.loadtxt(\"./Datasets/train_x.csv\", delimiter=\",\")\n",
    "# mini_y = np.loadtxt(\"./Datasets/train_y.csv\", delimiter=\",\")"
   ]
  },
  {
   "cell_type": "markdown",
   "metadata": {},
   "source": [
    "#### Reshape to easily visualize while cleaning data"
   ]
  },
  {
   "cell_type": "code",
   "execution_count": 3,
   "metadata": {},
   "outputs": [
    {
     "name": "stdout",
     "output_type": "stream",
     "text": [
      "Wall time: 19 s\n"
     ]
    }
   ],
   "source": [
    "%%time\n",
    "x = mini_X.reshape(-1, 64, 64)\n",
    "\n",
    "imgs = []\n",
    "for idx in range(len(x)):\n",
    "    img_id = next(iid)\n",
    "    cv2.imwrite('Output/{}.jpg'.format(img_id), 255-x[idx])\n",
    "    imgs.append(cv2.imread('Output/{}.jpg'.format(img_id), 0))"
   ]
  },
  {
   "cell_type": "markdown",
   "metadata": {},
   "source": [
    "We will first transform to binary image (black, white):"
   ]
  },
  {
   "cell_type": "code",
   "execution_count": 4,
   "metadata": {},
   "outputs": [
    {
     "name": "stdout",
     "output_type": "stream",
     "text": [
      "Wall time: 19 ms\n"
     ]
    }
   ],
   "source": [
    "%%time\n",
    "bin_imgs = []\n",
    "for img in imgs:\n",
    "    _, bin_img = cv2.threshold(img, 50, 255, cv2.THRESH_BINARY)\n",
    "    bin_imgs.append(bin_img)"
   ]
  },
  {
   "cell_type": "markdown",
   "metadata": {},
   "source": [
    "Then we will remove the noice by dilatating and eroding the image:"
   ]
  },
  {
   "cell_type": "code",
   "execution_count": 5,
   "metadata": {},
   "outputs": [
    {
     "name": "stdout",
     "output_type": "stream",
     "text": [
      "Wall time: 142 ms\n"
     ]
    }
   ],
   "source": [
    "%%time\n",
    "denoised_imgs = []\n",
    "for bin_img in bin_imgs:\n",
    "    dilatated = cv2.dilate(bin_img, np.ones((3,3)))\n",
    "    denoised_imgs.append(cv2.erode(dilatated, np.ones((2,2))))"
   ]
  },
  {
   "cell_type": "markdown",
   "metadata": {},
   "source": [
    "Finally, find largest contour:"
   ]
  },
  {
   "cell_type": "code",
   "execution_count": 6,
   "metadata": {},
   "outputs": [
    {
     "name": "stdout",
     "output_type": "stream",
     "text": [
      "Discarted 64 samples because preprocessing failed to clean well the image.\n",
      "Wall time: 169 ms\n"
     ]
    }
   ],
   "source": [
    "%%time\n",
    "MAX_AREA = 60*60   # avoid getting the 64X64 image as a contour\n",
    "def get_coords_largest_digit(contours):\n",
    "    max_contour = 0\n",
    "    for idx, cont in enumerate(contours):\n",
    "        a = cv2.contourArea(cont,False)\n",
    "        if a > max_contour and a < MAX_AREA:\n",
    "            x,y,w,h = cv2.boundingRect(cont)\n",
    "            max_contour = a\n",
    "\n",
    "    return x,y,w,h\n",
    " \n",
    "discarted = 0\n",
    "MAX_ALLOWED_LENGTH = 36\n",
    "largest_digits = []\n",
    "idx_to_del = []\n",
    "for idx, img in enumerate(denoised_imgs.copy()):\n",
    "    _, contours, _ = cv2.findContours(img, cv2.RETR_CCOMP, cv2.CHAIN_APPROX_SIMPLE)\n",
    "    \n",
    "    x,y,w,h = get_coords_largest_digit(contours)\n",
    "    cropped_img = img[y+1:y+h, x+1:x+w]\n",
    "    \n",
    "    vertical = int((MAX_ALLOWED_LENGTH-h) / 2)\n",
    "    horizontal = int((MAX_ALLOWED_LENGTH-w) / 2)\n",
    "\n",
    "    if h > MAX_ALLOWED_LENGTH or w > MAX_ALLOWED_LENGTH:\n",
    "        discarted +=1\n",
    "        idx_to_del.append(idx)\n",
    "        continue\n",
    "\n",
    "    resized_img = cv2.copyMakeBorder(cropped_img,vertical,vertical,horizontal,horizontal,cv2.BORDER_CONSTANT, value=[255,255,255])\n",
    "    largest_digits.append(resized_img[2:34,2:34])\n",
    "    \n",
    "mini_y = np.delete(mini_y, idx_to_del, axis=0)\n",
    "\n",
    "print('Discarted {} samples because preprocessing failed to clean well the image.'.format(discarted))"
   ]
  },
  {
   "cell_type": "markdown",
   "metadata": {},
   "source": [
    "Lets visualize the transformations:"
   ]
  },
  {
   "cell_type": "code",
   "execution_count": 7,
   "metadata": {},
   "outputs": [
    {
     "name": "stdout",
     "output_type": "stream",
     "text": [
      "4 5\n"
     ]
    },
    {
     "data": {
      "image/png": "[encoded data removed]",
      "text/plain": [
       "<matplotlib.figure.Figure at 0x26c5136aeb8>"
      ]
     },
     "metadata": {},
     "output_type": "display_data"
    },
    {
     "data": {
      "image/png": "[encoded data removed]",
      "text/plain": [
       "<matplotlib.figure.Figure at 0x26c7252c320>"
      ]
     },
     "metadata": {},
     "output_type": "display_data"
    },
    {
     "data": {
      "image/png": "[encoded data removed]",
      "text/plain": [
       "<matplotlib.figure.Figure at 0x26c7474c470>"
      ]
     },
     "metadata": {},
     "output_type": "display_data"
    },
    {
     "data": {
      "image/png": "[encoded data removed]",
      "text/plain": [
       "<matplotlib.figure.Figure at 0x26c77290dd8>"
      ]
     },
     "metadata": {},
     "output_type": "display_data"
    },
    {
     "data": {
      "image/png": "[encoded data removed]",
      "text/plain": [
       "<matplotlib.figure.Figure at 0x26c7650c668>"
      ]
     },
     "metadata": {},
     "output_type": "display_data"
    }
   ],
   "source": [
    "def plot_images(images, titles):\n",
    "    cols = len(images)\n",
    "    rows = len(images[0])\n",
    "    \n",
    "    print(cols, rows)\n",
    "    for r in range(rows):\n",
    "        for c in range(cols):\n",
    "            plt.subplot(1,cols,c+1)\n",
    "            plt.imshow(images[c][r],'gray')\n",
    "            plt.title(titles[c])\n",
    "            plt.xticks([]),plt.yticks([])\n",
    "        \n",
    "        plt.show()\n",
    "        \n",
    "titles = ['Original', 'Binary', 'Denoised', 'Largest Digit']\n",
    "images = [imgs[:5], bin_imgs[:5], denoised_imgs[:5], largest_digits[:5]]\n",
    "plot_images(images, titles)"
   ]
  },
  {
   "cell_type": "markdown",
   "metadata": {},
   "source": [
    "#### Split the clean data"
   ]
  },
  {
   "cell_type": "code",
   "execution_count": 8,
   "metadata": {},
   "outputs": [],
   "source": [
    "clean_X = []\n",
    "for i in range(len(largest_digits)):\n",
    "    clean_X.append(largest_digits[i].flatten())\n",
    "\n",
    "clean_X = np.divide(255-np.array(clean_X),255)\n",
    "\n",
    "mini_X_train, mini_X_test, mini_y_train, mini_y_test = train_test_split(clean_X, mini_y, \n",
    "                                                                        test_size=0.3,\n",
    "                                                                       random_state=SEED)"
   ]
  },
  {
   "cell_type": "markdown",
   "metadata": {},
   "source": [
    "### 1. Linear Learners"
   ]
  },
  {
   "cell_type": "code",
   "execution_count": 9,
   "metadata": {},
   "outputs": [
    {
     "name": "stdout",
     "output_type": "stream",
     "text": [
      "Wall time: 0 ns\n"
     ]
    }
   ],
   "source": [
    "%%time\n",
    "# hyperparameter permutations\n",
    "FOLDS = 3 \n",
    "DUAL = [False] \n",
    "LOSSES = ['squared_hinge','hinge']\n",
    "PENALTIES = ['l1','l2']\n",
    "SOLVERS = ['lbfgs']\n",
    "\n",
    "KFOLD = KFold(n_splits=FOLDS, random_state=SEED)"
   ]
  },
  {
   "cell_type": "markdown",
   "metadata": {},
   "source": [
    "#### Base and dummy clf performances for reference"
   ]
  },
  {
   "cell_type": "code",
   "execution_count": 10,
   "metadata": {},
   "outputs": [
    {
     "name": "stdout",
     "output_type": "stream",
     "text": [
      "Random clf performance: 0.0973\n",
      "LinearSVM base performance: 0.3583\n",
      "LogReg base performance: 0.4460\n",
      "Wall time: 15.8 s\n"
     ]
    }
   ],
   "source": [
    "%%time\n",
    "# dummy clf performance\n",
    "random_clf = DummyClassifier(random_state=42)\n",
    "result = cross_val_score(random_clf, mini_X_train, mini_y_train, cv=KFOLD, scoring='accuracy')\n",
    "print('Random clf performance: {:.4f}'.format(result.mean()))\n",
    "\n",
    "# Base performance (default HP)\n",
    "result = cross_val_score(LinearSVC(), mini_X_train, mini_y_train, cv=KFOLD, scoring='accuracy')\n",
    "print('LinearSVM base performance: {:.4f}'.format(result.mean()))\n",
    "\n",
    "result = cross_val_score(LogisticRegression(), mini_X_train, mini_y_train, cv=KFOLD, scoring='accuracy')\n",
    "print('LogReg base performance: {:.4f}'.format(result.mean()))"
   ]
  },
  {
   "cell_type": "markdown",
   "metadata": {},
   "source": [
    "#### Perform Model Selection for LinearSM"
   ]
  },
  {
   "cell_type": "code",
   "execution_count": 11,
   "metadata": {},
   "outputs": [
    {
     "name": "stdout",
     "output_type": "stream",
     "text": [
      "HyperParameters chosen by CV: {'C': 0.0009444444444444445}\n",
      "Testing Score: 0.5733\n",
      "Wall time: 4.66 s\n"
     ]
    }
   ],
   "source": [
    "%%time\n",
    "parameters = {'C':np.linspace(0.0005,0.001, 10)}\n",
    "svc = LinearSVC()\n",
    "clf = GridSearchCV(svc, parameters, scoring='accuracy')\n",
    "clf.fit(mini_X_train,mini_y_train)\n",
    "print('HyperParameters chosen by CV: {}'.format(clf.best_params_ ))\n",
    "print('Testing Score: {:.4f}'.format(clf.score(mini_X_test, mini_y_test)))"
   ]
  },
  {
   "cell_type": "markdown",
   "metadata": {},
   "source": [
    "#### Perform Model Selection for LogisticRegression"
   ]
  },
  {
   "cell_type": "code",
   "execution_count": 12,
   "metadata": {},
   "outputs": [
    {
     "name": "stdout",
     "output_type": "stream",
     "text": [
      "HyperParameters chosen by CV: {'C': 0.009999999999999998, 'n_jobs': 8, 'solver': 'lbfgs'}\n",
      "Testing Score: 0.6023\n",
      "Wall time: 3min 39s\n"
     ]
    }
   ],
   "source": [
    "%%time\n",
    "\n",
    "parameters = {'C':np.linspace(0.005,0.02, 10),'solver':SOLVERS,'n_jobs':[8]}\n",
    "logit = LogisticRegression()\n",
    "clf = GridSearchCV(logit, parameters, scoring='accuracy')\n",
    "clf.fit(mini_X_train,mini_y_train)\n",
    "print('HyperParameters chosen by CV: {}'.format(clf.best_params_ ))\n",
    "print('Testing Score: {:.4f}'.format(clf.score(mini_X_test, mini_y_test)))"
   ]
  },
  {
   "cell_type": "markdown",
   "metadata": {},
   "source": [
    "### Convolutional Neural Network"
   ]
  },
  {
   "cell_type": "code",
   "execution_count": 13,
   "metadata": {},
   "outputs": [],
   "source": [
    "# import torch \n",
    "# from torch.autograd import Variable\n",
    "\n",
    "# # run on GPU if CUDA available\n",
    "# # dtype = torch.cuda.FloatTensor if torch.cuda.is_available() else torch.FloatTensor\n",
    "# dtype = torch.FloatTensor"
   ]
  },
  {
   "cell_type": "code",
   "execution_count": 14,
   "metadata": {},
   "outputs": [],
   "source": [
    "# %%time\n",
    "# N, D_in, H, D_out =  len(mini_X_train), len(mini_X_train[0]), 200, len(mini_X_train)\n",
    "\n",
    "# x_tensor = torch.from_numpy(mini_X_train).type(dtype)\n",
    "# y_tensor = torch.from_numpy(mini_y_train).type(dtype)\n",
    "\n",
    "# x = Variable(x_tensor, requires_grad=False)\n",
    "# y = Variable(y_tensor, requires_grad=False)\n",
    "\n",
    "# w1 = Variable(torch.randn(D_in, H).type(dtype), requires_grad=True)\n",
    "# w2 = Variable(torch.randn(H, D_out).type(dtype), requires_grad=True)\n",
    "\n",
    "# learning_rate = 1e-6\n",
    "# for t in range(500):\n",
    "#     # Forward Pass\n",
    "#     y_pred = x.mm(w1).clamp(min=0).mm(w2)\n",
    "\n",
    "#     # Compute loss\n",
    "#     # Now loss is a Variable of shape (1,) and loss.data is a Tensor of shape\n",
    "#     # (1,); loss.data[0] is a scalar value holding the loss.\n",
    "#     loss = (y_pred - y).pow(2).sum()\n",
    "#     if t % 50 == 0: print('[{}] {}'.format(t, loss.data[0]))\n",
    "\n",
    "#     # Baackwards Pass\n",
    "#     loss.backward()\n",
    "\n",
    "#     # Update weights using gradient descent\n",
    "#     w1.data -= learning_rate * w1.grad.data\n",
    "#     w2.data -= learning_rate * w2.grad.data\n",
    "\n",
    "#     # Manually zero the gradients after updating weights\n",
    "#     w1.grad.data.zero_()\n",
    "#     w2.grad.data.zero_()"
   ]
  },
  {
   "cell_type": "code",
   "execution_count": 15,
   "metadata": {},
   "outputs": [],
   "source": [
    "# # Hyper Parameters\n",
    "# num_epochs = 5\n",
    "# batch_size = 100\n",
    "# learning_rate = 0.001\n",
    "\n",
    "# print(x_tensor.shape)\n",
    "# print(y_tensor.shape)\n",
    "\n",
    "\n",
    "# train_loader = torch.utils.data.DataLoader(dataset=(x_tensor, y_tensor),\n",
    "#                                            batch_size=batch_size, \n",
    "#                                            shuffle=True)\n",
    "\n",
    "# class CNN(nn.Module):\n",
    "#     def __init__(self):\n",
    "#         super(CNN, self).__init__()\n",
    "#         self.layer1 = nn.Sequential(\n",
    "#             nn.Conv2d(1, 16, kernel_size=5, padding=2),\n",
    "#             nn.BatchNorm2d(16),\n",
    "#             nn.ReLU(),\n",
    "#             nn.MaxPool2d(2))\n",
    "#         self.layer2 = nn.Sequential(\n",
    "#             nn.Conv2d(16, 32, kernel_size=5, padding=2),\n",
    "#             nn.BatchNorm2d(32),\n",
    "#             nn.ReLU(),\n",
    "#             nn.MaxPool2d(2))\n",
    "#         self.fc = nn.Linear(7*7*32, 10)\n",
    "        \n",
    "#     def forward(self, x):\n",
    "#         out = self.layer1(x)\n",
    "#         out = self.layer2(out)\n",
    "#         out = out.view(out.size(0), -1)\n",
    "#         out = self.fc(out)\n",
    "#         return out\n",
    "        \n",
    "# cnn = CNN()\n",
    "\n",
    "# # Loss and Optimizer\n",
    "# criterion = nn.CrossEntropyLoss()\n",
    "# optimizer = torch.optim.Adam(cnn.parameters(), lr=learning_rate)"
   ]
  },
  {
   "cell_type": "code",
   "execution_count": 16,
   "metadata": {},
   "outputs": [],
   "source": [
    "# # Train the Model\n",
    "# for epoch in range(num_epochs):\n",
    "#     for i, (images, labels) in enumerate(train_loader):\n",
    "#         images = Variable(images)\n",
    "#         labels = Variable(labels)\n",
    "        \n",
    "#         # Forward + Backward + Optimize\n",
    "#         optimizer.zero_grad()\n",
    "#         outputs = cnn(images)\n",
    "#         loss = criterion(outputs, labels)\n",
    "#         loss.backward()\n",
    "#         optimizer.step()\n",
    "        \n",
    "#         if (i+1) % 100 == 0:\n",
    "#             print ('Epoch [%d/%d], Iter [%d/%d] Loss: %.4f' \n",
    "#                    %(epoch+1, num_epochs, i+1, len(train_dataset)//batch_size, loss.data[0]))"
   ]
  },
  {
   "cell_type": "code",
   "execution_count": null,
   "metadata": {},
   "outputs": [],
   "source": []
  },
  {
   "cell_type": "code",
   "execution_count": null,
   "metadata": {},
   "outputs": [],
   "source": []
  }
 ],
 "metadata": {
  "kernelspec": {
   "display_name": "Python 3",
   "language": "python",
   "name": "python3"
  },
  "language_info": {
   "codemirror_mode": {
    "name": "ipython",
    "version": 3
   },
   "file_extension": ".py",
   "mimetype": "text/x-python",
   "name": "python",
   "nbconvert_exporter": "python",
   "pygments_lexer": "ipython3",
   "version": "3.6.4"
  }
 },
 "nbformat": 4,
 "nbformat_minor": 2
}
