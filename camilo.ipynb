{
 "cells": [
  {
   "cell_type": "code",
   "execution_count": 1,
   "metadata": {},
   "outputs": [],
   "source": [
    "import matplotlib.pyplot as plt\n",
    "import numpy as np\n",
    "import matplotlib\n",
    "import random\n",
    "from operator import itemgetter\n",
    "\n",
    "from sklearn.model_selection import train_test_split\n",
    "from sklearn.model_selection import cross_val_score\n",
    "from sklearn.model_selection import KFold\n",
    "\n",
    "from sklearn.model_selection import GridSearchCV\n",
    "\n",
    "from sklearn.linear_model import LogisticRegression\n",
    "from sklearn.dummy import DummyClassifier\n",
    "from sklearn.svm import LinearSVC\n",
    "\n",
    "import cv2\n",
    "\n",
    "%matplotlib inline\n",
    "matplotlib.rcParams['figure.figsize'] = (10.0, 8.0)\n",
    "\n",
    "from itertools import count\n",
    "iid = count()\n",
    "\n",
    "SEED = 42    # random state seed for consistent results"
   ]
  },
  {
   "cell_type": "markdown",
   "metadata": {},
   "source": [
    "### 0. Preprocessing"
   ]
  },
  {
   "cell_type": "code",
   "execution_count": 2,
   "metadata": {},
   "outputs": [
    {
     "name": "stdout",
     "output_type": "stream",
     "text": [
      "CPU times: user 8.85 s, sys: 574 ms, total: 9.43 s\n",
      "Wall time: 9.52 s\n"
     ]
    }
   ],
   "source": [
    "%%time\n",
    "# mini_X = np.loadtxt(\"./Datasets/mini_train_x.csv\", delimiter=\",\")\n",
    "# mini_y = np.loadtxt(\"./Datasets/mini_train_y.csv\", delimiter=\",\")\n",
    "\n",
    "mini_X = np.loadtxt(\"./Datasets/train_med_x.csv\", delimiter=\",\")\n",
    "mini_y = np.loadtxt(\"./Datasets/train_med_y.csv\", delimiter=\",\")\n",
    "\n",
    "# mini_X = np.loadtxt(\"./Datasets/train_x.csv\", delimiter=\",\")\n",
    "# mini_y = np.loadtxt(\"./Datasets/train_y.csv\", delimiter=\",\")"
   ]
  },
  {
   "cell_type": "markdown",
   "metadata": {},
   "source": [
    "#### Reshape to easily visualize while cleaning data"
   ]
  },
  {
   "cell_type": "code",
   "execution_count": 3,
   "metadata": {},
   "outputs": [
    {
     "name": "stdout",
     "output_type": "stream",
     "text": [
      "CPU times: user 450 ms, sys: 197 ms, total: 647 ms\n",
      "Wall time: 724 ms\n"
     ]
    }
   ],
   "source": [
    "%%time\n",
    "x = mini_X.reshape(-1, 64, 64)\n",
    "\n",
    "imgs = []\n",
    "for idx in range(len(x)):\n",
    "    img_id = next(iid)\n",
    "    cv2.imwrite('Output/{}.jpg'.format(img_id), 255-x[idx])\n",
    "    imgs.append(cv2.imread('Output/{}.jpg'.format(img_id), 0))"
   ]
  },
  {
   "cell_type": "markdown",
   "metadata": {},
   "source": [
    "We will first transform to binary image (black, white):"
   ]
  },
  {
   "cell_type": "code",
   "execution_count": 4,
   "metadata": {},
   "outputs": [
    {
     "name": "stdout",
     "output_type": "stream",
     "text": [
      "CPU times: user 9.19 ms, sys: 36 µs, total: 9.22 ms\n",
      "Wall time: 9.9 ms\n"
     ]
    }
   ],
   "source": [
    "%%time\n",
    "bin_imgs = []\n",
    "for img in imgs:\n",
    "    _, bin_img = cv2.threshold(img, 50, 255, cv2.THRESH_BINARY)\n",
    "    bin_imgs.append(bin_img)"
   ]
  },
  {
   "cell_type": "markdown",
   "metadata": {},
   "source": [
    "Then we will remove the noice by dilatating and eroding the image:"
   ]
  },
  {
   "cell_type": "code",
   "execution_count": 5,
   "metadata": {},
   "outputs": [
    {
     "name": "stdout",
     "output_type": "stream",
     "text": [
      "CPU times: user 67.5 ms, sys: 1.89 ms, total: 69.4 ms\n",
      "Wall time: 79.2 ms\n"
     ]
    }
   ],
   "source": [
    "%%time\n",
    "denoised_imgs = []\n",
    "for bin_img in bin_imgs:\n",
    "    dilatated = cv2.dilate(bin_img, np.ones((3,3)))\n",
    "    denoised_imgs.append(cv2.erode(dilatated, np.ones((2,2))))"
   ]
  },
  {
   "cell_type": "markdown",
   "metadata": {},
   "source": [
    "Finally, find largest contour:"
   ]
  },
  {
   "cell_type": "code",
   "execution_count": 6,
   "metadata": {},
   "outputs": [
    {
     "name": "stdout",
     "output_type": "stream",
     "text": [
      "Discarted 49 samples because preprocessing failed to clean well the image.\n",
      "CPU times: user 94.8 ms, sys: 1.11 ms, total: 95.9 ms\n",
      "Wall time: 99 ms\n"
     ]
    }
   ],
   "source": [
    "%%time\n",
    "MAX_AREA = 60*60   # avoid getting the 64X64 image as a contour\n",
    "def get_coords_largest_digit(contours):\n",
    "    x=y=h=w=0\n",
    "    max_contour = 0\n",
    "    for idx, cont in enumerate(contours):\n",
    "        a = cv2.contourArea(cont,False)\n",
    "        if a > max_contour and a < MAX_AREA:\n",
    "            x,y,w,h = cv2.boundingRect(cont)\n",
    "            max_contour = a\n",
    "\n",
    "    return x,y,w,h\n",
    " \n",
    "discarted = 0\n",
    "MAX_ALLOWED_LENGTH = 36\n",
    "largest_digits = []\n",
    "idx_to_del = []\n",
    "for idx, img in enumerate(denoised_imgs.copy()):\n",
    "    _, contours, _ = cv2.findContours(img, cv2.RETR_CCOMP, cv2.CHAIN_APPROX_SIMPLE)\n",
    "    \n",
    "    x,y,w,h = get_coords_largest_digit(contours)\n",
    "    cropped_img = img[y+1:y+h, x+1:x+w]\n",
    "    \n",
    "    vertical = int((MAX_ALLOWED_LENGTH-h) / 2)\n",
    "    horizontal = int((MAX_ALLOWED_LENGTH-w) / 2)\n",
    "\n",
    "    if h > MAX_ALLOWED_LENGTH or w > MAX_ALLOWED_LENGTH:\n",
    "        discarted +=1\n",
    "        idx_to_del.append(idx)\n",
    "        continue\n",
    "\n",
    "    resized_img = cv2.copyMakeBorder(cropped_img,vertical,vertical,horizontal,horizontal,cv2.BORDER_CONSTANT, value=[255,255,255])\n",
    "    largest_digits.append(resized_img[2:34,2:34])\n",
    "    \n",
    "mini_y = np.delete(mini_y, idx_to_del, axis=0)\n",
    "\n",
    "print('Discarted {} samples because preprocessing failed to clean well the image.'.format(discarted))"
   ]
  },
  {
   "cell_type": "markdown",
   "metadata": {},
   "source": [
    "Lets visualize the transformations:"
   ]
  },
  {
   "cell_type": "code",
   "execution_count": 7,
   "metadata": {},
   "outputs": [
    {
     "name": "stdout",
     "output_type": "stream",
     "text": [
      "4 5\n"
     ]
    },
    {
     "data": {
      "image/png": "[encoded data removed]",
      "text/plain": [
       "<matplotlib.figure.Figure at 0x7feaea6ff668>"
      ]
     },
     "metadata": {},
     "output_type": "display_data"
    },
    {
     "data": {
      "image/png": "[encoded data removed]",
      "text/plain": [
       "<matplotlib.figure.Figure at 0x7feaea6ff208>"
      ]
     },
     "metadata": {},
     "output_type": "display_data"
    },
    {
     "data": {
      "image/png": "[encoded data removed]",
      "text/plain": [
       "<matplotlib.figure.Figure at 0x7feadd6cda20>"
      ]
     },
     "metadata": {},
     "output_type": "display_data"
    },
    {
     "data": {
      "image/png": "[encoded data removed]",
      "text/plain": [
       "<matplotlib.figure.Figure at 0x7feadbb42278>"
      ]
     },
     "metadata": {},
     "output_type": "display_data"
    },
    {
     "data": {
      "image/png": "[encoded data removed]",
      "text/plain": [
       "<matplotlib.figure.Figure at 0x7feadc1f2eb8>"
      ]
     },
     "metadata": {},
     "output_type": "display_data"
    }
   ],
   "source": [
    "def plot_images(images, titles):\n",
    "    cols = len(images)\n",
    "    rows = len(images[0])\n",
    "    \n",
    "    print(cols, rows)\n",
    "    for r in range(rows):\n",
    "        for c in range(cols):\n",
    "            plt.subplot(1,cols,c+1)\n",
    "            plt.imshow(images[c][r],'gray')\n",
    "            plt.title(titles[c])\n",
    "            plt.xticks([]),plt.yticks([])\n",
    "        \n",
    "        plt.show()\n",
    "        \n",
    "titles = ['Original', 'Binary', 'Denoised', 'Largest Digit']\n",
    "images = [imgs[:5], bin_imgs[:5], denoised_imgs[:5], largest_digits[:5]]\n",
    "plot_images(images, titles)"
   ]
  },
  {
   "cell_type": "markdown",
   "metadata": {},
   "source": [
    "#### Split the clean data"
   ]
  },
  {
   "cell_type": "code",
   "execution_count": 8,
   "metadata": {},
   "outputs": [],
   "source": [
    "clean_X = []\n",
    "for i in range(len(largest_digits)):\n",
    "    clean_X.append(largest_digits[i].flatten())\n",
    "\n",
    "clean_X = np.divide(255-np.array(clean_X),255)\n",
    "\n",
    "mini_X_train, mini_X_test, mini_y_train, mini_y_test = train_test_split(clean_X, mini_y, \n",
    "                                                                        test_size=0.3,\n",
    "                                                                       random_state=SEED)"
   ]
  },
  {
   "cell_type": "markdown",
   "metadata": {},
   "source": [
    "### 1. Linear Learners"
   ]
  },
  {
   "cell_type": "code",
   "execution_count": 9,
   "metadata": {},
   "outputs": [],
   "source": [
    "# %%time\n",
    "# # hyperparameter permutations\n",
    "# FOLDS = 3 \n",
    "# DUAL = [False] \n",
    "# LOSSES = ['squared_hinge','hinge']\n",
    "# PENALTIES = ['l1','l2']\n",
    "# SOLVERS = ['lbfgs']\n",
    "\n",
    "# KFOLD = KFold(n_splits=FOLDS, random_state=SEED)"
   ]
  },
  {
   "cell_type": "markdown",
   "metadata": {},
   "source": [
    "#### Base and dummy clf performances for reference"
   ]
  },
  {
   "cell_type": "code",
   "execution_count": 10,
   "metadata": {},
   "outputs": [],
   "source": [
    "# %%time\n",
    "# # dummy clf performance\n",
    "# random_clf = DummyClassifier(random_state=42)\n",
    "# result = cross_val_score(random_clf, mini_X_train, mini_y_train, cv=KFOLD, scoring='accuracy')\n",
    "# print('Random clf performance: {:.4f}'.format(result.mean()))\n",
    "\n",
    "# # Base performance (default HP)\n",
    "# result = cross_val_score(LinearSVC(), mini_X_train, mini_y_train, cv=KFOLD, scoring='accuracy')\n",
    "# print('LinearSVM base performance: {:.4f}'.format(result.mean()))\n",
    "\n",
    "# result = cross_val_score(LogisticRegression(), mini_X_train, mini_y_train, cv=KFOLD, scoring='accuracy')\n",
    "# print('LogReg base performance: {:.4f}'.format(result.mean()))"
   ]
  },
  {
   "cell_type": "markdown",
   "metadata": {},
   "source": [
    "#### Perform Model Selection for LinearSM"
   ]
  },
  {
   "cell_type": "code",
   "execution_count": 11,
   "metadata": {},
   "outputs": [],
   "source": [
    "# %%time\n",
    "# parameters = {'C':np.linspace(0.0005,0.001, 10)}\n",
    "# svc = LinearSVC()\n",
    "# clf = GridSearchCV(svc, parameters, scoring='accuracy')\n",
    "# clf.fit(mini_X_train,mini_y_train)\n",
    "# print('HyperParameters chosen by CV: {}'.format(clf.best_params_ ))\n",
    "# print('Testing Score: {:.4f}'.format(clf.score(mini_X_test, mini_y_test)))"
   ]
  },
  {
   "cell_type": "markdown",
   "metadata": {},
   "source": [
    "#### Perform Model Selection for LogisticRegression"
   ]
  },
  {
   "cell_type": "code",
   "execution_count": 12,
   "metadata": {},
   "outputs": [],
   "source": [
    "# %%time\n",
    "\n",
    "# parameters = {'C':np.linspace(0.005,0.02, 10),'solver':SOLVERS,'n_jobs':[8]}\n",
    "# logit = LogisticRegression()\n",
    "# clf = GridSearchCV(logit, parameters, scoring='accuracy')\n",
    "# clf.fit(mini_X_train,mini_y_train)\n",
    "# print('HyperParameters chosen by CV: {}'.format(clf.best_params_ ))\n",
    "# print('Testing Score: {:.4f}'.format(clf.score(mini_X_test, mini_y_test)))"
   ]
  },
  {
   "cell_type": "markdown",
   "metadata": {},
   "source": [
    "### Convolutional Neural Network"
   ]
  },
  {
   "cell_type": "code",
   "execution_count": 111,
   "metadata": {},
   "outputs": [],
   "source": [
    "import torch\n",
    "from torch.autograd import Variable\n",
    "import torch.nn as nn\n",
    "import torch.nn.functional as F\n",
    "import torch.optim as optim\n",
    "import torch.nn.init as init\n",
    "import torch.utils.data as data\n",
    "\n",
    "from PIL import Image\n",
    "\n",
    "import torchvision\n",
    "import torchvision.transforms as transforms\n",
    "\n",
    "from sklearn.model_selection import train_test_split\n",
    "\n",
    "import time\n",
    "from __future__ import print_function\n"
   ]
  },
  {
   "cell_type": "code",
   "execution_count": 219,
   "metadata": {},
   "outputs": [],
   "source": [
    "class CNN(nn.Module):\n",
    "    def __init__(self, scale, batch_size):\n",
    "        super(CNN, self).__init__()\n",
    "        self.print = True\n",
    "        self.scale = scale\n",
    "        self.batch_size = batch_size\n",
    "        \n",
    "        self.layer1 = nn.Sequential(\n",
    "        # Layer 1 14\n",
    "            out1 = 37\n",
    "            nn.Conv2d(in_channels=1, out_channels=out1, kernel_size=(16, 16), padding=0, stride=1),\n",
    "            nn.MaxPool2d(kernel_size=(3, 3), stride=2),\n",
    "            nn.ReLU(),\n",
    "            nn.BatchNorm2d(out1))\n",
    "        \n",
    "        self.layer2 = nn.Sequential(\n",
    "        # Layer 2 37\n",
    "            out2 = 62\n",
    "            nn.Conv2d(in_channels=out1, out_channels=out2, kernel_size=(2, 2), padding=0, stride=2),\n",
    "            nn.ReLU(),\n",
    "            nn.BatchNorm2d(62)\n",
    "        )\n",
    "            \n",
    "#         self.layer3 = nn.Sequential(\n",
    "#         # Layer 3\n",
    "#             nn.Conv2d(in_channels=37, out_channels=56, kernel_size=(1, 1), padding=0, stride=1),\n",
    "#             nn.ReLU(),\n",
    "#             nn.BatchNorm2d(56),\n",
    "#         )\n",
    "        \n",
    "#         self.layer4 = nn.Sequential(\n",
    "#         # Layer 3\n",
    "#             nn.Conv2d(in_channels=56, out_channels=56, kernel_size=(1, 1), padding=0, stride=1),\n",
    "#             nn.ReLU(),\n",
    "#             nn.BatchNorm2d(56),\n",
    "#         )\n",
    "        \n",
    "#         self.layer5 = nn.Sequential(\n",
    "#         # Layer 4\n",
    "#             nn.Conv2d(in_channels=56, out_channels=37, kernel_size=(1, 1), padding=0, stride=1),\n",
    "#             nn.MaxPool2d(kernel_size=(3, 3), stride=2),\n",
    "#             nn.ReLU(),\n",
    "#             nn.BatchNorm2d(37),\n",
    "#         )\n",
    "        \n",
    "        \n",
    "        # Logistic Regression\n",
    "        self.clf = nn.Sequential(\n",
    "            nn.Dropout(p=0.5),\n",
    "            nn.Linear(self.scale,self.scale),\n",
    "            nn.Dropout(p=0.5),\n",
    "            nn.Linear(self.scale, 10),\n",
    "        )\n",
    "\n",
    "    def forward(self, x):\n",
    "        if (self.print):\n",
    "            print(\"layer 0: \", x.shape)\n",
    "        out = self.layer1(x)\n",
    "        if (self.print):\n",
    "            print(\"layer 1: \", out.shape)\n",
    "        out = self.layer2(out)\n",
    "        if (self.print):\n",
    "            print(\"layer 2: \", out.shape)\n",
    "#         out = self.layer3(out)\n",
    "#         if (self.print):\n",
    "#             print(\"layer 3: \", out.shape)\n",
    "#         out = self.layer4(out)\n",
    "#         if (self.print):\n",
    "#             print(\"layer 4: \", out.shape)\n",
    "#         out = self.layer5(out)\n",
    "#         if (self.print):\n",
    "#             print(\"layer 5: \", out.shape)\n",
    "        out = out.view(out.size(0),-1)\n",
    "        if (self.print):\n",
    "            print(\"pre-linear: \", out.shape)\n",
    "        out = self.clf(out)\n",
    "        if (self.print):\n",
    "            print(\"output: \", out.shape)\n",
    "            self.print = False\n",
    "        return out"
   ]
  },
  {
   "cell_type": "code",
   "execution_count": 220,
   "metadata": {},
   "outputs": [],
   "source": [
    "import torch.utils.data as data\n",
    "class DatasetKaggle(data.Dataset):\n",
    "    def __init__(self, np_data_x, np_data_y, transform=None):\n",
    "        self.data = np_data_x\n",
    "        self.labels = np_data_y\n",
    "        if (transform is not None):\n",
    "            self.transform = transform\n",
    "        else:\n",
    "            self.transform = transforms.ToTensor()\n",
    "        \n",
    "    def __getitem__(self,index):\n",
    "        sample = self.data[index]\n",
    "        sample = sample.reshape(32,32,1)\n",
    "        sample = self.transform(sample)\n",
    "        \n",
    "        label = int(self.labels[index])\n",
    "        \n",
    "        return sample, label\n",
    "    \n",
    "    def __len__(self):\n",
    "        return len(self.labels)"
   ]
  },
  {
   "cell_type": "code",
   "execution_count": 221,
   "metadata": {},
   "outputs": [],
   "source": [
    "cuda_available = torch.cuda.is_available()\n",
    "\n",
    "train = DatasetKaggle(mini_X_train, mini_y_train)\n",
    "test = DatasetKaggle(mini_X_test, mini_y_test)\n",
    "\n",
    "batch_size = 16\n",
    "\n",
    "trainloader = torch.utils.data.DataLoader(train, batch_size=batch_size, shuffle=True,num_workers=2)\n",
    "testloader = torch.utils.data.DataLoader(test, batch_size=batch_size, shuffle=True, num_workers=2)"
   ]
  },
  {
   "cell_type": "code",
   "execution_count": 223,
   "metadata": {
    "scrolled": false
   },
   "outputs": [
    {
     "name": "stdout",
     "output_type": "stream",
     "text": [
      "layer 0:  torch.Size([16, 1, 32, 32])\n",
      "layer 1:  torch.Size([16, 37, 8, 8])\n",
      "layer 2:  torch.Size([16, 62, 4, 4])\n",
      "pre-linear:  torch.Size([16, 992])\n",
      "output:  torch.Size([16, 10])\n",
      "Epoch : 0 Loss : 1.874 \n",
      "Epoch : 0 Test Acc : 59.073\n",
      "Time for epoch:  23.864410315989517\n",
      "--------------------------------------------------------------\n",
      "Epoch : 1 Loss : 1.440 \n",
      "Epoch : 1 Test Acc : 63.707\n",
      "Time for epoch:  23.310885170008987\n",
      "--------------------------------------------------------------\n",
      "Epoch : 2 Loss : 1.310 \n",
      "Epoch : 2 Test Acc : 66.023\n",
      "Time for epoch:  23.666109844023595\n",
      "--------------------------------------------------------------\n",
      "Epoch : 3 Loss : 1.252 \n",
      "Epoch : 3 Test Acc : 68.822\n",
      "Time for epoch:  22.752198190020863\n",
      "--------------------------------------------------------------\n",
      "Epoch : 4 Loss : 1.165 \n",
      "Epoch : 4 Test Acc : 69.884\n",
      "Time for epoch:  24.791574125003535\n",
      "--------------------------------------------------------------\n",
      "Epoch : 5 Loss : 1.107 \n",
      "Epoch : 5 Test Acc : 69.595\n",
      "Time for epoch:  23.452712636004435\n",
      "--------------------------------------------------------------\n",
      "Epoch : 6 Loss : 1.067 \n",
      "Epoch : 6 Test Acc : 68.147\n",
      "Time for epoch:  22.689165249990765\n",
      "--------------------------------------------------------------\n",
      "Epoch : 7 Loss : 1.086 \n",
      "Epoch : 7 Test Acc : 69.498\n",
      "Time for epoch:  22.595647176989587\n",
      "--------------------------------------------------------------\n",
      "Epoch : 8 Loss : 1.015 \n",
      "Epoch : 8 Test Acc : 70.656\n",
      "Time for epoch:  22.815186654013814\n",
      "--------------------------------------------------------------\n",
      "Epoch : 9 Loss : 0.990 \n",
      "Epoch : 9 Test Acc : 70.174\n",
      "Time for epoch:  23.89761803901638\n",
      "--------------------------------------------------------------\n",
      "Epoch : 10 Loss : 0.981 \n",
      "Epoch : 10 Test Acc : 71.429\n",
      "Time for epoch:  22.575181698979577\n",
      "--------------------------------------------------------------\n",
      "Epoch : 11 Loss : 0.942 \n",
      "Epoch : 11 Test Acc : 72.008\n",
      "Time for epoch:  23.870934912003577\n",
      "--------------------------------------------------------------\n",
      "Epoch : 12 Loss : 0.885 \n",
      "Epoch : 12 Test Acc : 72.876\n",
      "Time for epoch:  24.94236572700902\n",
      "--------------------------------------------------------------\n",
      "Epoch : 13 Loss : 0.894 \n",
      "Epoch : 13 Test Acc : 72.394\n",
      "Time for epoch:  25.2009371049935\n",
      "--------------------------------------------------------------\n",
      "Epoch : 14 Loss : 0.893 \n",
      "Epoch : 14 Test Acc : 71.718\n",
      "Time for epoch:  23.3346579070203\n",
      "--------------------------------------------------------------\n",
      "Epoch : 15 Loss : 0.847 \n",
      "Epoch : 15 Test Acc : 69.884\n",
      "Time for epoch:  23.341149754996877\n",
      "--------------------------------------------------------------\n",
      "Epoch : 16 Loss : 0.816 \n",
      "Epoch : 16 Test Acc : 67.954\n",
      "Time for epoch:  23.48290234999149\n",
      "--------------------------------------------------------------\n",
      "Epoch : 17 Loss : 0.840 \n",
      "Epoch : 17 Test Acc : 71.332\n",
      "Time for epoch:  23.85295898700133\n",
      "--------------------------------------------------------------\n",
      "Epoch : 18 Loss : 0.778 \n",
      "Epoch : 18 Test Acc : 71.042\n",
      "Time for epoch:  24.979760048008757\n",
      "--------------------------------------------------------------\n",
      "Epoch : 19 Loss : 0.811 \n",
      "Epoch : 19 Test Acc : 70.946\n",
      "Time for epoch:  24.80514981399756\n",
      "--------------------------------------------------------------\n",
      "Epoch : 20 Loss : 0.780 \n",
      "Epoch : 20 Test Acc : 72.297\n",
      "Time for epoch:  30.89628143401933\n",
      "--------------------------------------------------------------\n"
     ]
    },
    {
     "name": "stderr",
     "output_type": "stream",
     "text": [
      "Process Process-5862:\n",
      "Process Process-5861:\n",
      "Traceback (most recent call last):\n",
      "Traceback (most recent call last):\n",
      "  File \"/usr/lib/python3.6/multiprocessing/process.py\", line 258, in _bootstrap\n",
      "    self.run()\n",
      "  File \"/usr/lib/python3.6/multiprocessing/process.py\", line 93, in run\n",
      "    self._target(*self._args, **self._kwargs)\n",
      "  File \"/usr/lib/python3.6/multiprocessing/process.py\", line 258, in _bootstrap\n",
      "    self.run()\n",
      "  File \"/usr/lib/python3.6/multiprocessing/process.py\", line 93, in run\n",
      "    self._target(*self._args, **self._kwargs)\n",
      "  File \"/usr/lib/python3.6/site-packages/torch/utils/data/dataloader.py\", line 50, in _worker_loop\n",
      "    r = index_queue.get()\n",
      "  File \"/usr/lib/python3.6/multiprocessing/queues.py\", line 335, in get\n",
      "    res = self._reader.recv_bytes()\n",
      "  File \"/usr/lib/python3.6/multiprocessing/connection.py\", line 216, in recv_bytes\n",
      "    buf = self._recv_bytes(maxlength)\n",
      "  File \"/usr/lib/python3.6/site-packages/torch/utils/data/dataloader.py\", line 50, in _worker_loop\n",
      "    r = index_queue.get()\n",
      "  File \"/usr/lib/python3.6/multiprocessing/queues.py\", line 334, in get\n",
      "    with self._rlock:\n",
      "  File \"/usr/lib/python3.6/multiprocessing/connection.py\", line 407, in _recv_bytes\n",
      "    buf = self._recv(4)\n",
      "  File \"/usr/lib/python3.6/multiprocessing/synchronize.py\", line 96, in __enter__\n",
      "    return self._semlock.__enter__()\n",
      "  File \"/usr/lib/python3.6/multiprocessing/connection.py\", line 379, in _recv\n",
      "    chunk = read(handle, remaining)\n",
      "KeyboardInterrupt\n",
      "KeyboardInterrupt\n",
      "Exception ignored in: <bound method DataLoaderIter.__del__ of <torch.utils.data.dataloader.DataLoaderIter object at 0x7feae4c189b0>>\n",
      "Traceback (most recent call last):\n",
      "  File \"/usr/lib/python3.6/site-packages/torch/utils/data/dataloader.py\", line 333, in __del__\n",
      "    self._shutdown_workers()\n",
      "  File \"/usr/lib/python3.6/site-packages/torch/utils/data/dataloader.py\", line 319, in _shutdown_workers\n",
      "    self.data_queue.get()\n",
      "  File \"/usr/lib/python3.6/multiprocessing/queues.py\", line 337, in get\n",
      "    return _ForkingPickler.loads(res)\n",
      "  File \"/usr/lib/python3.6/site-packages/torch/multiprocessing/reductions.py\", line 70, in rebuild_storage_fd\n",
      "    fd = df.detach()\n",
      "  File \"/usr/lib/python3.6/multiprocessing/resource_sharer.py\", line 57, in detach\n",
      "    with _resource_sharer.get_connection(self._id) as conn:\n",
      "  File \"/usr/lib/python3.6/multiprocessing/resource_sharer.py\", line 87, in get_connection\n",
      "    c = Client(address, authkey=process.current_process().authkey)\n",
      "  File \"/usr/lib/python3.6/multiprocessing/connection.py\", line 487, in Client\n",
      "    c = SocketClient(address)\n",
      "  File \"/usr/lib/python3.6/multiprocessing/connection.py\", line 614, in SocketClient\n",
      "    s.connect(address)\n",
      "FileNotFoundError: [Errno 2] No such file or directory\n"
     ]
    },
    {
     "ename": "KeyboardInterrupt",
     "evalue": "",
     "output_type": "error",
     "traceback": [
      "\u001b[0;31m---------------------------------------------------------------------------\u001b[0m",
      "\u001b[0;31mKeyboardInterrupt\u001b[0m                         Traceback (most recent call last)",
      "\u001b[0;32m<ipython-input-223-9edff0289118>\u001b[0m in \u001b[0;36m<module>\u001b[0;34m()\u001b[0m\n\u001b[1;32m     40\u001b[0m \u001b[0;34m\u001b[0m\u001b[0m\n\u001b[1;32m     41\u001b[0m         \u001b[0;31m# perform a backward pass, and update the weights.\u001b[0m\u001b[0;34m\u001b[0m\u001b[0;34m\u001b[0m\u001b[0m\n\u001b[0;32m---> 42\u001b[0;31m         \u001b[0mloss\u001b[0m\u001b[0;34m.\u001b[0m\u001b[0mbackward\u001b[0m\u001b[0;34m(\u001b[0m\u001b[0;34m)\u001b[0m\u001b[0;34m\u001b[0m\u001b[0m\n\u001b[0m\u001b[1;32m     43\u001b[0m         \u001b[0moptimizer\u001b[0m\u001b[0;34m.\u001b[0m\u001b[0mstep\u001b[0m\u001b[0;34m(\u001b[0m\u001b[0;34m)\u001b[0m\u001b[0;34m\u001b[0m\u001b[0m\n\u001b[1;32m     44\u001b[0m         \u001b[0mlosses\u001b[0m\u001b[0;34m.\u001b[0m\u001b[0mappend\u001b[0m\u001b[0;34m(\u001b[0m\u001b[0mloss\u001b[0m\u001b[0;34m.\u001b[0m\u001b[0mdata\u001b[0m\u001b[0;34m[\u001b[0m\u001b[0;36m0\u001b[0m\u001b[0;34m]\u001b[0m\u001b[0;34m)\u001b[0m\u001b[0;34m\u001b[0m\u001b[0m\n",
      "\u001b[0;32m/usr/lib/python3.6/site-packages/torch/autograd/variable.py\u001b[0m in \u001b[0;36mbackward\u001b[0;34m(self, gradient, retain_graph, create_graph, retain_variables)\u001b[0m\n\u001b[1;32m    165\u001b[0m                 \u001b[0mVariable\u001b[0m\u001b[0;34m.\u001b[0m\u001b[0;34m\u001b[0m\u001b[0m\n\u001b[1;32m    166\u001b[0m         \"\"\"\n\u001b[0;32m--> 167\u001b[0;31m         \u001b[0mtorch\u001b[0m\u001b[0;34m.\u001b[0m\u001b[0mautograd\u001b[0m\u001b[0;34m.\u001b[0m\u001b[0mbackward\u001b[0m\u001b[0;34m(\u001b[0m\u001b[0mself\u001b[0m\u001b[0;34m,\u001b[0m \u001b[0mgradient\u001b[0m\u001b[0;34m,\u001b[0m \u001b[0mretain_graph\u001b[0m\u001b[0;34m,\u001b[0m \u001b[0mcreate_graph\u001b[0m\u001b[0;34m,\u001b[0m \u001b[0mretain_variables\u001b[0m\u001b[0;34m)\u001b[0m\u001b[0;34m\u001b[0m\u001b[0m\n\u001b[0m\u001b[1;32m    168\u001b[0m \u001b[0;34m\u001b[0m\u001b[0m\n\u001b[1;32m    169\u001b[0m     \u001b[0;32mdef\u001b[0m \u001b[0mregister_hook\u001b[0m\u001b[0;34m(\u001b[0m\u001b[0mself\u001b[0m\u001b[0;34m,\u001b[0m \u001b[0mhook\u001b[0m\u001b[0;34m)\u001b[0m\u001b[0;34m:\u001b[0m\u001b[0;34m\u001b[0m\u001b[0m\n",
      "\u001b[0;32m/usr/lib/python3.6/site-packages/torch/autograd/__init__.py\u001b[0m in \u001b[0;36mbackward\u001b[0;34m(variables, grad_variables, retain_graph, create_graph, retain_variables)\u001b[0m\n\u001b[1;32m     97\u001b[0m \u001b[0;34m\u001b[0m\u001b[0m\n\u001b[1;32m     98\u001b[0m     Variable._execution_engine.run_backward(\n\u001b[0;32m---> 99\u001b[0;31m         variables, grad_variables, retain_graph)\n\u001b[0m\u001b[1;32m    100\u001b[0m \u001b[0;34m\u001b[0m\u001b[0m\n\u001b[1;32m    101\u001b[0m \u001b[0;34m\u001b[0m\u001b[0m\n",
      "\u001b[0;31mKeyboardInterrupt\u001b[0m: "
     ]
    }
   ],
   "source": [
    "import timeit\n",
    "    \n",
    "clf = CNN(992, batch_size)\n",
    "if cuda_available:\n",
    "    clf = clf.cuda()\n",
    "    \n",
    "criterion = nn.CrossEntropyLoss()\n",
    "\n",
    "\n",
    "weight_decays = np.logspace(-12, -2.4, num=3, endpoint=False)\n",
    "learning_rates = np.logspace(-3.5, -2, num=5, endpoint=False)\n",
    "\n",
    "\n",
    "optimizer = torch.optim.RMSprop(clf.parameters(), lr = .00007511886431509582, weight_decay=5e-4, momentum=0.9)\n",
    "for epoch in range(100):\n",
    "    start_time = timeit.default_timer()\n",
    "    losses = []\n",
    "    # Train\n",
    "    for batch_idx, data in enumerate(trainloader):\n",
    "        inputs, labels = data\n",
    "        \n",
    "        if (cuda_available):\n",
    "            inputs, labels = inputs.cuda(), labels.cuda()\n",
    "            \n",
    "        inputs, labels = Variable(inputs), Variable(labels)\n",
    "    \n",
    "        # Reset gradients to zero\n",
    "        optimizer.zero_grad()\n",
    "        \n",
    "        # feed forward\n",
    "        outputs = clf(inputs)\n",
    "        \n",
    "                        \n",
    "#         print(\"outputs: \", outputs.size())\n",
    "#         print(\"labels: \", labels.size())\n",
    "        \n",
    "        \n",
    "        # Compute the loss\n",
    "        loss = criterion(outputs,labels)\n",
    "        \n",
    "        # perform a backward pass, and update the weights.\n",
    "        loss.backward()\n",
    "        optimizer.step()\n",
    "        losses.append(loss.data[0])\n",
    "\n",
    "    print('Epoch : %d Loss : %.3f ' % (epoch, np.mean(losses)))\n",
    "    \n",
    "    # Evaluate\n",
    "    clf.eval()\n",
    "    total = 0\n",
    "    correct = 0\n",
    "    for batch_idx, data in enumerate(testloader):\n",
    "        inputs, labels = data\n",
    "        if cuda_available:\n",
    "            inputs, labels = inputs.cuda(), labels.cuda()\n",
    "        inputs, labels = Variable(inputs, volatile=True), Variable(labels, volatile=True)\n",
    "        outputs = clf(inputs)\n",
    "        _, predicted = torch.max(outputs.data, 1)\n",
    "        total += labels.size(0)\n",
    "        correct += predicted.eq(labels.data).cpu().sum()\n",
    "    elapsed = timeit.default_timer() - start_time\n",
    "    print('Epoch : %d Test Acc : %.3f' % (epoch, 100.*correct/total))\n",
    "    print('Time for epoch: ', elapsed)\n",
    "    print('--------------------------------------------------------------')\n",
    "    clf.train()"
   ]
  },
  {
   "cell_type": "code",
   "execution_count": null,
   "metadata": {},
   "outputs": [],
   "source": [
    "\n",
    "# for h in learning_rates:\n",
    "#     l = h\n",
    "#     print(\"Learning rate: \", l)\n",
    "# #     print(\"Weight Decay: \", d)\n",
    "#     optimizer = torch.optim.RMSprop(clf.parameters(), lr = l, weight_decay=1e-7, momentum=0.9)\n",
    "#     count = 0\n",
    "#     for epoch in range(200):\n",
    "#         start_time = timeit.default_timer()\n",
    "#         losses = []\n",
    "#         # Train\n",
    "#         for batch_idx, data in enumerate(trainloader):\n",
    "#             inputs, labels = data\n",
    "\n",
    "#             if (cuda_available):\n",
    "#                 inputs, labels = inputs.cuda(), labels.cuda()\n",
    "\n",
    "#             inputs, labels = Variable(inputs), Variable(labels)\n",
    "\n",
    "#             # Reset gradients to zero\n",
    "#             optimizer.zero_grad()\n",
    "\n",
    "#             # feed forward\n",
    "#             outputs = clf(inputs)\n",
    "\n",
    "\n",
    "#     #         print(\"outputs: \", outputs.size())\n",
    "#     #         print(\"labels: \", labels.size())\n",
    "\n",
    "\n",
    "#             # Compute the loss\n",
    "#             loss = criterion(outputs,labels)\n",
    "\n",
    "#             # perform a backward pass, and update the weights.\n",
    "#             loss.backward()\n",
    "#             optimizer.step()\n",
    "#             losses.append(loss.data[0])\n",
    "# #             print('Epoch : %d Loss : %.3f ' % (epoch, np.mean(losses)))\n",
    "\n",
    "#         # Evaluate\n",
    "#         clf.eval()\n",
    "#         total = 0\n",
    "#         correct = 0\n",
    "#         for batch_idx, data in enumerate(testloader):\n",
    "#             inputs, labels = data\n",
    "#             if cuda_available:\n",
    "#                 inputs, labels = inputs.cuda(), labels.cuda()\n",
    "#             inputs, labels = Variable(inputs, volatile=True), Variable(labels, volatile=True)\n",
    "#             outputs = clf(inputs)\n",
    "#             _, predicted = torch.max(outputs.data, 1)\n",
    "#             total += labels.size(0)\n",
    "#             correct += predicted.eq(labels.data).cpu().sum()\n",
    "#         elapsed = timeit.default_timer() - start_time\n",
    "#         if (count%10 == 0):\n",
    "#             print('Epoch : %d Loss : %.3f ' % (epoch, np.mean(losses)))\n",
    "#             print('Epoch : %d Test Acc : %.3f' % (epoch, 100.*correct/total))\n",
    "#             print('Time for epoch ',count, ': ', elapsed)\n",
    "#             print('--------------------------------------------------------------')\n",
    "#         if (count == 99):\n",
    "#             print('Epoch : %d Loss : %.3f ' % (epoch, np.mean(losses)))\n",
    "#             print('Epoch : %d Test Acc : %.3f' % (epoch, 100.*correct/total))\n",
    "#             print('Time for epoch ',count, ': ', elapsed)\n",
    "#             print('--------------------------------------------------------------')\n",
    "#         clf.train()\n",
    "#         count += 10\n"
   ]
  }
 ],
 "metadata": {
  "kernelspec": {
   "display_name": "Python 3",
   "language": "python",
   "name": "python3"
  },
  "language_info": {
   "codemirror_mode": {
    "name": "ipython",
    "version": 3
   },
   "file_extension": ".py",
   "mimetype": "text/x-python",
   "name": "python",
   "nbconvert_exporter": "python",
   "pygments_lexer": "ipython3",
   "version": "3.6.4"
  }
 },
 "nbformat": 4,
 "nbformat_minor": 2
}
