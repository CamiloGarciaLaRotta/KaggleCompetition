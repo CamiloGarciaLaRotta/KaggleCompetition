{
 "cells": [
  {
   "cell_type": "code",
   "execution_count": 1,
   "metadata": {},
   "outputs": [],
   "source": [
    "import matplotlib.pyplot as plt\n",
    "import numpy as np\n",
    "import matplotlib\n",
    "import random\n",
    "from operator import itemgetter\n",
    "\n",
    "from sklearn.model_selection import train_test_split\n",
    "from sklearn.model_selection import cross_val_score\n",
    "from sklearn.model_selection import KFold\n",
    "\n",
    "from sklearn.model_selection import GridSearchCV\n",
    "\n",
    "from sklearn.linear_model import LogisticRegression\n",
    "from sklearn.dummy import DummyClassifier\n",
    "from sklearn.svm import LinearSVC\n",
    "\n",
    "import cv2\n",
    "\n",
    "%matplotlib inline\n",
    "matplotlib.rcParams['figure.figsize'] = (10.0, 8.0)\n",
    "\n",
    "from itertools import count\n",
    "iid = count()\n",
    "\n",
    "SEED = 42    # random state seed for consistent results"
   ]
  },
  {
   "cell_type": "markdown",
   "metadata": {},
   "source": [
    "### 0. Preprocessing"
   ]
  },
  {
   "cell_type": "code",
   "execution_count": 2,
   "metadata": {},
   "outputs": [
    {
     "name": "stdout",
     "output_type": "stream",
     "text": [
      "CPU times: user 1min 50s, sys: 1min 2s, total: 2min 53s\n",
      "Wall time: 6min 16s\n"
     ]
    }
   ],
   "source": [
    "%%time\n",
    "train_X = np.loadtxt(\"./Datasets/train_x.csv\", delimiter=\",\")\n",
    "train_y = np.loadtxt(\"./Datasets/train_y.csv\", delimiter=\",\")"
   ]
  },
  {
   "cell_type": "markdown",
   "metadata": {},
   "source": [
    "#### Reshape to easily visualize while cleaning data"
   ]
  },
  {
   "cell_type": "code",
   "execution_count": 3,
   "metadata": {},
   "outputs": [
    {
     "name": "stdout",
     "output_type": "stream",
     "text": [
      "CPU times: user 6.88 s, sys: 4.47 s, total: 11.4 s\n",
      "Wall time: 14.6 s\n"
     ]
    }
   ],
   "source": [
    "%%time\n",
    "x = train_X.reshape(-1, 64, 64)\n",
    "\n",
    "imgs = []\n",
    "for idx in range(len(x)):\n",
    "    img_id = next(iid)\n",
    "    cv2.imwrite('Output/{}.jpg'.format(img_id), 255-x[idx])\n",
    "    imgs.append(cv2.imread('Output/{}.jpg'.format(img_id), 0))"
   ]
  },
  {
   "cell_type": "markdown",
   "metadata": {},
   "source": [
    "We will first transform to binary image (black, white):"
   ]
  },
  {
   "cell_type": "code",
   "execution_count": 4,
   "metadata": {},
   "outputs": [
    {
     "name": "stdout",
     "output_type": "stream",
     "text": [
      "CPU times: user 133 ms, sys: 69.5 ms, total: 203 ms\n",
      "Wall time: 222 ms\n"
     ]
    }
   ],
   "source": [
    "%%time\n",
    "bin_imgs = []\n",
    "for img in imgs:\n",
    "    _, bin_img = cv2.threshold(img, 50, 255, cv2.THRESH_BINARY)\n",
    "    bin_imgs.append(bin_img)"
   ]
  },
  {
   "cell_type": "markdown",
   "metadata": {},
   "source": [
    "Then we will remove the noice by dilatating and eroding the image:"
   ]
  },
  {
   "cell_type": "code",
   "execution_count": 5,
   "metadata": {},
   "outputs": [
    {
     "name": "stdout",
     "output_type": "stream",
     "text": [
      "CPU times: user 1.41 s, sys: 103 ms, total: 1.51 s\n",
      "Wall time: 1.67 s\n"
     ]
    }
   ],
   "source": [
    "%%time\n",
    "denoised_imgs = []\n",
    "for bin_img in bin_imgs:\n",
    "    dilatated = cv2.dilate(bin_img, np.ones((3,3)))\n",
    "    denoised_imgs.append(cv2.erode(dilatated, np.ones((3,3))))"
   ]
  },
  {
   "cell_type": "markdown",
   "metadata": {},
   "source": [
    "Finally, find largest contour:"
   ]
  },
  {
   "cell_type": "code",
   "execution_count": 6,
   "metadata": {},
   "outputs": [
    {
     "name": "stdout",
     "output_type": "stream",
     "text": [
      "Discarted 962 samples because preprocessing failed to clean well the image.\n",
      "CPU times: user 1.94 s, sys: 6.5 ms, total: 1.95 s\n",
      "Wall time: 1.98 s\n"
     ]
    }
   ],
   "source": [
    "%%time\n",
    "MAX_AREA = 60*60   # avoid getting the 64X64 image as a contour\n",
    "def get_coords_largest_digit(contours):\n",
    "    x=y=h=w=0\n",
    "    max_contour = 0\n",
    "    for idx, cont in enumerate(contours):\n",
    "        a = cv2.contourArea(cont,False)\n",
    "        if a > max_contour and a < MAX_AREA:\n",
    "            x,y,w,h = cv2.boundingRect(cont)\n",
    "            max_contour = a\n",
    "\n",
    "    return x,y,w,h\n",
    " \n",
    "discarted = 0\n",
    "MAX_ALLOWED_LENGTH = 36\n",
    "largest_digits = []\n",
    "idx_to_del = []\n",
    "for idx, img in enumerate(denoised_imgs.copy()):\n",
    "    _, contours, _ = cv2.findContours(img, cv2.RETR_CCOMP, cv2.CHAIN_APPROX_SIMPLE)\n",
    "    \n",
    "    x,y,w,h = get_coords_largest_digit(contours)\n",
    "    cropped_img = img[y+1:y+h, x+1:x+w]\n",
    "    \n",
    "    vertical = int((MAX_ALLOWED_LENGTH-h) / 2)\n",
    "    horizontal = int((MAX_ALLOWED_LENGTH-w) / 2)\n",
    "\n",
    "    if h > MAX_ALLOWED_LENGTH or w > MAX_ALLOWED_LENGTH:\n",
    "        discarted +=1\n",
    "        idx_to_del.append(idx)\n",
    "        continue\n",
    "\n",
    "    resized_img = cv2.copyMakeBorder(cropped_img,vertical,vertical,horizontal,horizontal,cv2.BORDER_CONSTANT, value=[255,255,255])\n",
    "    largest_digits.append(resized_img[2:34,2:34])\n",
    "    \n",
    "clean_y = np.delete(train_y, idx_to_del, axis=0)\n",
    "\n",
    "print('Discarted {} samples because preprocessing failed to clean well the image.'.format(discarted))"
   ]
  },
  {
   "cell_type": "markdown",
   "metadata": {},
   "source": [
    "Lets visualize the transformations:"
   ]
  },
  {
   "cell_type": "code",
   "execution_count": 7,
   "metadata": {},
   "outputs": [
    {
     "name": "stdout",
     "output_type": "stream",
     "text": [
      "4 5\n"
     ]
    },
    {
     "data": {
      "image/png": "[encoded data removed]",
      "text/plain": [
       "<matplotlib.figure.Figure at 0x7fc5a78db550>"
      ]
     },
     "metadata": {},
     "output_type": "display_data"
    },
    {
     "data": {
      "image/png": "[encoded data removed]",
      "text/plain": [
       "<matplotlib.figure.Figure at 0x7fc5a6be5b00>"
      ]
     },
     "metadata": {},
     "output_type": "display_data"
    },
    {
     "data": {
      "image/png": "[encoded data removed]",
      "text/plain": [
       "<matplotlib.figure.Figure at 0x7fc5a6a83ba8>"
      ]
     },
     "metadata": {},
     "output_type": "display_data"
    },
    {
     "data": {
      "image/png": "[encoded data removed]",
      "text/plain": [
       "<matplotlib.figure.Figure at 0x7fc5a6921320>"
      ]
     },
     "metadata": {},
     "output_type": "display_data"
    },
    {
     "data": {
      "image/png": "[encoded data removed]",
      "text/plain": [
       "<matplotlib.figure.Figure at 0x7fc5a6a26f60>"
      ]
     },
     "metadata": {},
     "output_type": "display_data"
    }
   ],
   "source": [
    "def plot_images(images, titles):\n",
    "    cols = len(images)\n",
    "    rows = len(images[0])\n",
    "    \n",
    "    print(cols, rows)\n",
    "    for r in range(rows):\n",
    "        for c in range(cols):\n",
    "            plt.subplot(1,cols,c+1)\n",
    "            plt.imshow(images[c][r],'gray')\n",
    "            plt.title(titles[c])\n",
    "            plt.xticks([]),plt.yticks([])\n",
    "        \n",
    "        plt.show()\n",
    "        \n",
    "titles = ['Original', 'Binary', 'Denoised', 'Largest Digit']\n",
    "images = [imgs[:5], bin_imgs[:5], denoised_imgs[:5], largest_digits[:5]]\n",
    "plot_images(images, titles)"
   ]
  },
  {
   "cell_type": "markdown",
   "metadata": {},
   "source": [
    "#### Split the clean data"
   ]
  },
  {
   "cell_type": "code",
   "execution_count": 8,
   "metadata": {},
   "outputs": [],
   "source": [
    "clean_X = []\n",
    "for i in range(len(largest_digits)):\n",
    "    clean_X.append(largest_digits[i].flatten())\n",
    "\n",
    "clean_X = np.divide(255-np.array(clean_X),255)\n",
    "\n",
    "X_train, X_test, y_train, y_test = train_test_split(clean_X, clean_y, test_size=0.3, random_state=SEED)"
   ]
  },
  {
   "cell_type": "markdown",
   "metadata": {},
   "source": [
    "### 1. Linear Learners"
   ]
  },
  {
   "cell_type": "code",
   "execution_count": 9,
   "metadata": {},
   "outputs": [
    {
     "name": "stdout",
     "output_type": "stream",
     "text": [
      "CPU times: user 16 µs, sys: 8 µs, total: 24 µs\n",
      "Wall time: 26.7 µs\n"
     ]
    }
   ],
   "source": [
    "%%time\n",
    "# hyperparameter permutations\n",
    "FOLDS = 3 \n",
    "DUAL = [False] \n",
    "LOSSES = ['squared_hinge','hinge']\n",
    "PENALTIES = ['l1','l2']\n",
    "SOLVERS = ['lbfgs']\n",
    "\n",
    "KFOLD = KFold(n_splits=FOLDS, random_state=SEED)"
   ]
  },
  {
   "cell_type": "markdown",
   "metadata": {},
   "source": [
    "#### Base and dummy clf performances for reference"
   ]
  },
  {
   "cell_type": "code",
   "execution_count": 10,
   "metadata": {},
   "outputs": [
    {
     "name": "stdout",
     "output_type": "stream",
     "text": [
      "Random clf performance: 0.0984\n",
      "LinearSVM base performance: 0.5946\n",
      "LogReg base performance: 0.6057\n",
      "CPU times: user 10min 16s, sys: 1.13 ms, total: 10min 16s\n",
      "Wall time: 10min 21s\n"
     ]
    }
   ],
   "source": [
    "%%time\n",
    "# dummy clf performance\n",
    "random_clf = DummyClassifier(random_state=42)\n",
    "result = cross_val_score(random_clf, X_train, y_train, cv=KFOLD, scoring='accuracy')\n",
    "print('Random clf performance: {:.4f}'.format(result.mean()))\n",
    "\n",
    "# Base performance (default HP)\n",
    "result = cross_val_score(LinearSVC(), X_train, y_train, cv=KFOLD, scoring='accuracy')\n",
    "print('LinearSVM base performance: {:.4f}'.format(result.mean()))\n",
    "\n",
    "result = cross_val_score(LogisticRegression(), X_train, y_train, cv=KFOLD, scoring='accuracy')\n",
    "print('LogReg base performance: {:.4f}'.format(result.mean()))"
   ]
  },
  {
   "cell_type": "markdown",
   "metadata": {},
   "source": [
    "#### Perform Model Selection for LinearSM"
   ]
  },
  {
   "cell_type": "code",
   "execution_count": 11,
   "metadata": {},
   "outputs": [
    {
     "name": "stdout",
     "output_type": "stream",
     "text": [
      "HyperParameters chosen by CV: {'C': 0.0009444444444444445}\n",
      "Testing Score: 0.6179\n",
      "CPU times: user 1min 24s, sys: 2.8 s, total: 1min 27s\n",
      "Wall time: 1min 27s\n"
     ]
    }
   ],
   "source": [
    "%%time\n",
    "parameters = {'C':np.linspace(0.0005,0.001, 10)}\n",
    "svc = LinearSVC()\n",
    "clf = GridSearchCV(svc, parameters, scoring='accuracy')\n",
    "clf.fit(X_train, y_train)\n",
    "print('HyperParameters chosen by CV: {}'.format(clf.best_params_ ))\n",
    "print('Testing Score: {:.4f}'.format(clf.score(X_test, y_test)))"
   ]
  },
  {
   "cell_type": "markdown",
   "metadata": {},
   "source": [
    "#### Perform Model Selection for LogisticRegression"
   ]
  },
  {
   "cell_type": "code",
   "execution_count": 12,
   "metadata": {},
   "outputs": [
    {
     "name": "stdout",
     "output_type": "stream",
     "text": [
      "HyperParameters chosen by CV: {'C': 0.006666666666666666, 'n_jobs': 8, 'solver': 'lbfgs'}\n",
      "Testing Score: 0.6324\n",
      "CPU times: user 2min, sys: 19.4 s, total: 2min 20s\n",
      "Wall time: 1h 40min 53s\n"
     ]
    }
   ],
   "source": [
    "%%time\n",
    "\n",
    "parameters = {'C':np.linspace(0.005,0.02, 10),'solver':SOLVERS,'n_jobs':[8]}\n",
    "logit = LogisticRegression()\n",
    "clf = GridSearchCV(logit, parameters, scoring='accuracy')\n",
    "clf.fit(X_train, y_train)\n",
    "print('HyperParameters chosen by CV: {}'.format(clf.best_params_ ))\n",
    "print('Testing Score: {:.4f}'.format(clf.score(X_test, y_test)))"
   ]
  },
  {
   "cell_type": "code",
   "execution_count": null,
   "metadata": {},
   "outputs": [],
   "source": []
  }
 ],
 "metadata": {
  "kernelspec": {
   "display_name": "Python 3",
   "language": "python",
   "name": "python3"
  },
  "language_info": {
   "codemirror_mode": {
    "name": "ipython",
    "version": 3
   },
   "file_extension": ".py",
   "mimetype": "text/x-python",
   "name": "python",
   "nbconvert_exporter": "python",
   "pygments_lexer": "ipython3",
   "version": "3.6.4"
  }
 },
 "nbformat": 4,
 "nbformat_minor": 2
}
